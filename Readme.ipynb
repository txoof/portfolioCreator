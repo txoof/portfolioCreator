{
 "cells": [
  {
   "cell_type": "markdown",
   "metadata": {},
   "source": [
    "# createFolders\n",
    "Create student cumulative folders on Google Drive using Google FileStream \n",
    "\n"
   ]
  },
  {
   "cell_type": "markdown",
   "metadata": {},
   "source": [
    "## Quick Start\n",
    "1. Download the application from [this link](https://github.com/txoof/portfolioCreator/raw/master/createFolders.tgz)\n",
    "2. Locate the file `createFolders.tgz` -- likely in your `Downloads` folder\n",
    "3. Double click on the file to decompress it\n",
    "4. Locate the createFolders icon:\n",
    "    * ![createFolders icon](./documentation/exec_ico.png =100)"
   ]
  },
  {
   "cell_type": "markdown",
   "metadata": {},
   "source": [
    "## TO DO\n",
    "- [x] Create a folder, sub folders for each run in output path for csv\n",
    "- [x] Add csv output for invalid rows\n",
    "- [ ] Handle bad paths for imported csv file\n",
    "- [ ] CSV for import has tripple quoting around LastFirst field. \n",
    "- [ ] Add GUI\n",
    "- [ ] Build package for one-file execution\n",
    "- [ ] "
   ]
  },
  {
   "cell_type": "markdown",
   "metadata": {},
   "source": [
    "## Feature Creep\n",
    "* Create a logging handler, filter and custom log level to output some text selectively to stdout"
   ]
  },
  {
   "cell_type": "code",
   "execution_count": null,
   "metadata": {},
   "outputs": [],
   "source": []
  }
 ],
 "metadata": {
  "kernelspec": {
   "display_name": "Python 3",
   "language": "python",
   "name": "python3"
  },
  "language_info": {
   "codemirror_mode": {
    "name": "ipython",
    "version": 3
   },
   "file_extension": ".py",
   "mimetype": "text/x-python",
   "name": "python",
   "nbconvert_exporter": "python",
   "pygments_lexer": "ipython3",
   "version": "3.7.8"
  }
 },
 "nbformat": 4,
 "nbformat_minor": 2
}
