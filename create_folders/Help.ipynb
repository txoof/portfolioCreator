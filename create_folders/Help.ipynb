{
 "cells": [
  {
   "cell_type": "markdown",
   "metadata": {},
   "source": [
    "# createFolders\n",
    "This program creates student cumulative folders on Google Shared Drives using records pulled from PowerSchool. It is intended to be used by ASH employees that have admin access to PowerSchool learning and edit access to the Student Cumulative Folders on Google Drive.\n",
    "\n",
    "## Running the Program\n",
    "Make sure you have the latest version. The latest version can be found on GitHub - see the title bar of the application for the exact URL.\n",
    "\n",
    "Before you get can begin creating folders on Google Drive, you will need a `Quick Export` from PowerSchool with the appropriate information. The program will only create **new** folders when they are needed. It will not create duplicate folders if you accidentally run the same `student.export.txt` multiple times.\n",
    "\n",
    "### Get a student.export.txt file\n",
    "* Sign in to PowerSchool with an admin account and run a `Quick Export` with the following fields:\n",
    "    - `LastFirst`, `Student_Number`, `ClassOf`\n",
    "    - use a query similar to this to find recently enrolled students that may be missing Cumulative Folders: `Grade_Level=3;DistrictEntryDate>=07/31/2018`\n",
    "\n",
    "### Process the export file\n",
    "Once you have a `student.export.txt` file downloaded from PowerSchool, you can begin processing the file.\n",
    "\n",
    "* Click the `Process File` button to get started\n",
    "* If this is the first time you have run this program you will be prompted to select a Google Shared Drive\n",
    "    - Locate the Google Shared Drive that contains the `Student Cumulative Folders` folder. \n",
    "    - Make sure you select the correct Drive and the correct folder.\n",
    "        - The program will not allow you to continue if you select an improper drive.\n",
    "* You will now be prompted to select a `student.export.txt` file. This is typically found in the `Downloads` folder.\n",
    "    - Select the downloaded `student.export.txt` file\n",
    "* The program will process the export file and provide some information about the progress. \n",
    "    - It may take a long time to process all of the students. This is normal.\n",
    "    \n",
    "### Review the output\n",
    "When the program completes processing the export, it will provide a summary. Review the summary for any problems.\n",
    "\n",
    "* A folder will be created on your `Desktop` that contains data for the PowerSchool Administrator and information about any problems.\n",
    "* Example files:\n",
    "    - `2020-04-11_12.25_Portfolio_Links_for_PowerSchool.csv` -- Contains all of the successfully processed students.\n",
    "        * Send this to the PowerSchool Administrator\n",
    "    - `2020-04-11_12.25_Portfolio_Invalid_Rows.csv` -- Contains any rows that contain \"bad\" data in the `LastFirst`, `Student_Number`, `ClassOf` columns such as letters or spaces in the `Student_Number` or `ClassOf` column.\n",
    "        * Review this file to see which students were not processed.\n",
    "    - `2020-04-11_12.25_Portfolio_ERRORS.csv` -- Contains any rows that generated errors\n",
    "        * The file contains the entire row as well as more detailed information. **YOU MUST REVIEW THIS**\n",
    "        \n",
    "## Getting More Help\n",
    "Check the GitHub Repository for more detailed instructions with tutorials, images and detailed contact information -- see the title bar above in this applicaiton for the exact URL. \n",
    "    \n",
    "\n"
   ]
  },
  {
   "cell_type": "code",
   "execution_count": 6,
   "metadata": {},
   "outputs": [
    {
     "name": "stdout",
     "output_type": "stream",
     "text": [
      "[NbConvertApp] Converting notebook Help.ipynb to markdown\r\n"
     ]
    }
   ],
   "source": [
    "%alias mdconvert /Users/aaronciuffo/bin/develtools/mdconvert Help.ipynb\n",
    "%mdconvert"
   ]
  }
 ],
 "metadata": {
  "kernelspec": {
   "display_name": "portfolioCreator-alMouNtK",
   "language": "python",
   "name": "portfoliocreator-almountk"
  },
  "language_info": {
   "codemirror_mode": {
    "name": "ipython",
    "version": 3
   },
   "file_extension": ".py",
   "mimetype": "text/x-python",
   "name": "python",
   "nbconvert_exporter": "python",
   "pygments_lexer": "ipython3",
   "version": "3.7.7"
  }
 },
 "nbformat": 4,
 "nbformat_minor": 2
}
