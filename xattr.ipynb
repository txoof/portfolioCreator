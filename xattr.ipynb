{
 "cells": [
  {
   "cell_type": "code",
   "execution_count": 89,
   "metadata": {},
   "outputs": [
    {
     "name": "stdout",
     "output_type": "stream",
     "text": [
      "b'1YfYhQWnmlOnZIn41Wnp2HgDf760JLTwM\\n'\n"
     ]
    }
   ],
   "source": [
    "import subprocess\n",
    "import re\n",
    "p = subprocess.Popen('xattr -p user.drive.id \"/Volumes/GoogleDrive/Shared drives/IT Blabla I/foo.txt\"', shell=True, stdout=subprocess.PIPE, stderr=subprocess.STDOUT)\n",
    "for line in p.stdout.readlines():\n",
    "    print (line),\n",
    "retval = p.wait()"
   ]
  },
  {
   "cell_type": "code",
   "execution_count": 114,
   "metadata": {},
   "outputs": [],
   "source": [
    "f = '{\\n'\n",
    "p = p = re.compile(r'(?<!\")\\b\\w+\\b(?!\")')\n",
    "x = subprocess.Popen('xattr -p user.drive.itemprotostr \"/Volumes/GoogleDrive/Shared drives/IT Blabla I/foo.txt\"', shell=True, stdout=subprocess.PIPE, stderr=subprocess.STDOUT)\n",
    "for line in x.stdout.readlines():\n",
    "    line = line.decode(\"utf-8\").replace(\"'\", '\"')\n",
    "#     line = re.sub(p, r'\"\\g<0>\"', line)\n",
    "    f = f + line\n",
    "f = f + '}\\n'"
   ]
  },
  {
   "cell_type": "code",
   "execution_count": 115,
   "metadata": {},
   "outputs": [
    {
     "name": "stdout",
     "output_type": "stream",
     "text": [
      "{\n",
      "id: \"1YfYhQWnmlOnZIn41Wnp2HgDf760JLTwM\"\n",
      "parent: \"0ACLfU8KeD_BHUk9PVA\"\n",
      "title: \"foo.txt\"\n",
      "mime_type: \"text/plain\"\n",
      "starred: false\n",
      "trashed: false\n",
      "create_date_millis: 1539342132044\n",
      "modified_date_millis: 1539342144059\n",
      "last_viewed_by_me_date_millis: 1539342144059\n",
      "file_size: 30\n",
      "explicitly_trashed: false\n",
      "subscribed: false\n",
      "has_thumbnail: true\n",
      "file_extension: \"txt\"\n",
      "primary_sync_parent: \"\"\n",
      "md5_checksum: \"ca2ee7374a46a4a0efa1bd2c1ccd3731\"\n",
      "property {\n",
      "  key: \"local-title\"\n",
      "  string_value: \"foo.txt\"\n",
      "}\n",
      "property {\n",
      "  key: \"version-counter\"\n",
      "  int64_value: 4\n",
      "}\n",
      "property {\n",
      "  key: \"content-entry\"\n",
      "  binary_value: \"\\010\\261\\243\\n\\02230B9WTleJ1MzaYVExMSmxtdkduQzZBQ3ZvTUM0Z1hTL1FFS29jPQ\\032!1YfYhQWnmlOnZIn41Wnp2HgDf760JLTwM \\036\"\n",
      "}\n",
      "etag: \"\\\"1539342144059\\\"\"\n",
      "editable: true\n",
      "can_comment: true\n",
      "server_create_date_millis: 1539342139768\n",
      "team_drive_id: \"0ACLfU8KeD_BHUk9PVA\"\n",
      "version: 11\n",
      "has_own_permissions: false\n",
      "head_revision_id: \"0B9WTleJ1MzaYVExMSmxtdkduQzZBQ3ZvTUM0Z1hTL1FFS29jPQ\"\n",
      "capabilities {\n",
      "  can_add_children: false\n",
      "  can_comment: true\n",
      "  can_copy: true\n",
      "  can_delete: true\n",
      "  can_download: true\n",
      "  can_edit: true\n",
      "  can_remove_children: false\n",
      "  can_share: true\n",
      "  can_trash: true\n",
      "  can_manage_members: true\n",
      "  can_manage_visitors: true\n",
      "  can_rename: true\n",
      "  can_modify_content: true\n",
      "  can_move_item_within_team_drive: true\n",
      "  can_move_children_within_team_drive: false\n",
      "  can_delete_children: false\n",
      "  can_trash_children: false\n",
      "  can_move_item_within_drive: true\n",
      "  can_move_children_within_drive: false\n",
      "  can_add_folder_from_another_drive: false\n",
      "}\n",
      "stable_id: 1176\n",
      "parent_stable_id: 108\n",
      "passively_subscribed: false\n",
      "team_drive_stable_id: 108\n",
      "has_visitor_permissions: false\n",
      "last_viewed_by_me_or_created_date_millis: 1539342144059\n",
      "photos_storage_policy: \"original\"\n",
      "customer_id: \"034jf2t3\"\n",
      "ancestor_has_own_permissions: false\n",
      "\n",
      "}\n",
      "\n"
     ]
    }
   ],
   "source": [
    "print (f)"
   ]
  },
  {
   "cell_type": "code",
   "execution_count": 81,
   "metadata": {},
   "outputs": [
    {
     "data": {
      "text/plain": [
       "'id: \"1YfYhQWnmlOnZIn41Wnp2HgDf760JLTwM\"\\n'"
      ]
     },
     "execution_count": 81,
     "metadata": {},
     "output_type": "execute_result"
    }
   ],
   "source": [
    "line.decode()"
   ]
  },
  {
   "cell_type": "code",
   "execution_count": 79,
   "metadata": {},
   "outputs": [
    {
     "data": {
      "text/plain": [
       "\"b'\\\\n'\""
      ]
     },
     "execution_count": 79,
     "metadata": {},
     "output_type": "execute_result"
    }
   ],
   "source": [
    "str(line).lstrip()"
   ]
  },
  {
   "cell_type": "code",
   "execution_count": 68,
   "metadata": {},
   "outputs": [
    {
     "ename": "ModuleNotFoundError",
     "evalue": "No module named 'JSON'",
     "output_type": "error",
     "traceback": [
      "\u001b[0;31m---------------------------------------------------------------------------\u001b[0m",
      "\u001b[0;31mModuleNotFoundError\u001b[0m                       Traceback (most recent call last)",
      "\u001b[0;32m<ipython-input-68-4e521225e563>\u001b[0m in \u001b[0;36m<module>\u001b[0;34m\u001b[0m\n\u001b[0;32m----> 1\u001b[0;31m \u001b[0;32mimport\u001b[0m \u001b[0mJSON\u001b[0m\u001b[0;34m\u001b[0m\u001b[0;34m\u001b[0m\u001b[0m\n\u001b[0m",
      "\u001b[0;31mModuleNotFoundError\u001b[0m: No module named 'JSON'"
     ]
    }
   ],
   "source": [
    "import JSON"
   ]
  },
  {
   "cell_type": "code",
   "execution_count": 69,
   "metadata": {},
   "outputs": [],
   "source": [
    "import json"
   ]
  },
  {
   "cell_type": "code",
   "execution_count": 116,
   "metadata": {},
   "outputs": [
    {
     "data": {
      "text/plain": [
       "'\"{\\\\nid: \\\\\"1YfYhQWnmlOnZIn41Wnp2HgDf760JLTwM\\\\\"\\\\nparent: \\\\\"0ACLfU8KeD_BHUk9PVA\\\\\"\\\\ntitle: \\\\\"foo.txt\\\\\"\\\\nmime_type: \\\\\"text/plain\\\\\"\\\\nstarred: false\\\\ntrashed: false\\\\ncreate_date_millis: 1539342132044\\\\nmodified_date_millis: 1539342144059\\\\nlast_viewed_by_me_date_millis: 1539342144059\\\\nfile_size: 30\\\\nexplicitly_trashed: false\\\\nsubscribed: false\\\\nhas_thumbnail: true\\\\nfile_extension: \\\\\"txt\\\\\"\\\\nprimary_sync_parent: \\\\\"\\\\\"\\\\nmd5_checksum: \\\\\"ca2ee7374a46a4a0efa1bd2c1ccd3731\\\\\"\\\\nproperty {\\\\n  key: \\\\\"local-title\\\\\"\\\\n  string_value: \\\\\"foo.txt\\\\\"\\\\n}\\\\nproperty {\\\\n  key: \\\\\"version-counter\\\\\"\\\\n  int64_value: 4\\\\n}\\\\nproperty {\\\\n  key: \\\\\"content-entry\\\\\"\\\\n  binary_value: \\\\\"\\\\\\\\010\\\\\\\\261\\\\\\\\243\\\\\\\\n\\\\\\\\02230B9WTleJ1MzaYVExMSmxtdkduQzZBQ3ZvTUM0Z1hTL1FFS29jPQ\\\\\\\\032!1YfYhQWnmlOnZIn41Wnp2HgDf760JLTwM \\\\\\\\036\\\\\"\\\\n}\\\\netag: \\\\\"\\\\\\\\\\\\\"1539342144059\\\\\\\\\\\\\"\\\\\"\\\\neditable: true\\\\ncan_comment: true\\\\nserver_create_date_millis: 1539342139768\\\\nteam_drive_id: \\\\\"0ACLfU8KeD_BHUk9PVA\\\\\"\\\\nversion: 11\\\\nhas_own_permissions: false\\\\nhead_revision_id: \\\\\"0B9WTleJ1MzaYVExMSmxtdkduQzZBQ3ZvTUM0Z1hTL1FFS29jPQ\\\\\"\\\\ncapabilities {\\\\n  can_add_children: false\\\\n  can_comment: true\\\\n  can_copy: true\\\\n  can_delete: true\\\\n  can_download: true\\\\n  can_edit: true\\\\n  can_remove_children: false\\\\n  can_share: true\\\\n  can_trash: true\\\\n  can_manage_members: true\\\\n  can_manage_visitors: true\\\\n  can_rename: true\\\\n  can_modify_content: true\\\\n  can_move_item_within_team_drive: true\\\\n  can_move_children_within_team_drive: false\\\\n  can_delete_children: false\\\\n  can_trash_children: false\\\\n  can_move_item_within_drive: true\\\\n  can_move_children_within_drive: false\\\\n  can_add_folder_from_another_drive: false\\\\n}\\\\nstable_id: 1176\\\\nparent_stable_id: 108\\\\npassively_subscribed: false\\\\nteam_drive_stable_id: 108\\\\nhas_visitor_permissions: false\\\\nlast_viewed_by_me_or_created_date_millis: 1539342144059\\\\nphotos_storage_policy: \\\\\"original\\\\\"\\\\ncustomer_id: \\\\\"034jf2t3\\\\\"\\\\nancestor_has_own_permissions: false\\\\n\\\\n}\\\\n\"'"
      ]
     },
     "execution_count": 116,
     "metadata": {},
     "output_type": "execute_result"
    }
   ],
   "source": [
    "json.dumps(f)"
   ]
  },
  {
   "cell_type": "code",
   "execution_count": null,
   "metadata": {},
   "outputs": [],
   "source": []
  }
 ],
 "metadata": {
  "kernelspec": {
   "display_name": "portfolioCreator-ahiuVo4K",
   "language": "python",
   "name": "portfoliocreator-ahiuvo4k"
  },
  "language_info": {
   "codemirror_mode": {
    "name": "ipython",
    "version": 3
   },
   "file_extension": ".py",
   "mimetype": "text/x-python",
   "name": "python",
   "nbconvert_exporter": "python",
   "pygments_lexer": "ipython3",
   "version": "3.8.3"
  }
 },
 "nbformat": 4,
 "nbformat_minor": 4
}
