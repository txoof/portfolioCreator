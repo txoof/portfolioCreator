{
 "cells": [
  {
   "cell_type": "code",
   "execution_count": null,
   "metadata": {},
   "outputs": [],
   "source": []
  },
  {
   "cell_type": "code",
   "execution_count": 1,
   "metadata": {
    "scrolled": true
   },
   "outputs": [
    {
     "name": "stderr",
     "output_type": "stream",
     "text": [
      "DEBUG:root:starting up\n"
     ]
    },
    {
     "name": "stdout",
     "output_type": "stream",
     "text": [
      "\u001b[H\u001b[2J\n",
      "\n",
      "  ┌─────────────────────────────────────────────────────────────────────────┐\n",
      "  │                                                                         │\n",
      "  │  Title 9553                                                             │\n",
      "  │                                                                         │\n",
      "  │                                                                         │\n",
      "  │    1 - Item one                                                         │\n",
      "  │    2 - Item Two                                                         │\n",
      "  │    3 - add numbers                                                      │\n",
      "  │    4 - Exit                                                             │\n",
      "  │                                                                         │\n",
      "  │                                                                         │\n",
      "  └─────────────────────────────────────────────────────────────────────────┘\n",
      "  >> 3\n",
      "\u001b[H\u001b[2J\n",
      "\u001b[H\u001b[2J\n",
      "\n",
      "  ┌─────────────────────────────────────────────────────────────────────────┐\n",
      "  │                                                                         │\n",
      "  │  Title 919225                                                           │\n",
      "  │                                                                         │\n",
      "  │                                                                         │\n",
      "  │    1 - Item one                                                         │\n",
      "  │    2 - Item Two                                                         │\n",
      "  │    3 - add numbers                                                      │\n",
      "  │    4 - Exit                                                             │\n",
      "  │                                                                         │\n",
      "  │                                                                         │\n",
      "  └─────────────────────────────────────────────────────────────────────────┘\n",
      "  >> 4\n",
      "\u001b[H\u001b[2J\n"
     ]
    }
   ],
   "source": [
    "from consolemenu import *\n",
    "from consolemenu.items import *\n",
    "\n",
    "import logging\n",
    "logging.getLogger(__name__)\n",
    "logging.basicConfig(level=logging.DEBUG)\n",
    "\n",
    "def add(number):\n",
    "    return number+number\n",
    "\n",
    "m = ConsoleMenu('Title')\n",
    "item = MenuItem('Item one')\n",
    "item_two = MenuItem('Item Two')\n",
    "func = FunctionItem('add numbers', add, [5])\n",
    "\n",
    "m.append_item(item)\n",
    "m.append_item(item_two)\n",
    "m.append_item(func)\n",
    "logging.debug('starting up')\n",
    "m.start()\n",
    "# while m.is_running():\n",
    "#     logging.debug(m.current_item.show(0))\n",
    "count = 0\n",
    "while m.is_alive():\n",
    "\n",
    "#     logging.debug(m.returned_value)\n",
    "    m.title = 'Title '+ str(count)\n",
    "    count = count + 1\n",
    "    \n",
    "m.join()\n"
   ]
  },
  {
   "cell_type": "code",
   "execution_count": null,
   "metadata": {},
   "outputs": [],
   "source": [
    "### m."
   ]
  },
  {
   "cell_type": "code",
   "execution_count": null,
   "metadata": {},
   "outputs": [],
   "source": [
    "    print(i)"
   ]
  },
  {
   "cell_type": "code",
   "execution_count": 11,
   "metadata": {},
   "outputs": [
    {
     "data": {
      "text/plain": [
       "10"
      ]
     },
     "execution_count": 11,
     "metadata": {},
     "output_type": "execute_result"
    }
   ],
   "source": [
    "i.get_return()"
   ]
  },
  {
   "cell_type": "code",
   "execution_count": 18,
   "metadata": {},
   "outputs": [
    {
     "data": {
      "text/plain": [
       "' 2 - Exit'"
      ]
     },
     "execution_count": 18,
     "metadata": {},
     "output_type": "execute_result"
    }
   ],
   "source": [
    "i.show(1)"
   ]
  },
  {
   "cell_type": "code",
   "execution_count": 24,
   "metadata": {},
   "outputs": [
    {
     "data": {
      "text/plain": [
       "' 1 - Exit'"
      ]
     },
     "execution_count": 24,
     "metadata": {},
     "output_type": "execute_result"
    }
   ],
   "source": []
  },
  {
   "cell_type": "code",
   "execution_count": null,
   "metadata": {},
   "outputs": [],
   "source": []
  }
 ],
 "metadata": {
  "kernelspec": {
   "display_name": "portfolioCreator-ahiuVo4K",
   "language": "python",
   "name": "portfoliocreator-ahiuvo4k"
  },
  "language_info": {
   "codemirror_mode": {
    "name": "ipython",
    "version": 3
   },
   "file_extension": ".py",
   "mimetype": "text/x-python",
   "name": "python",
   "nbconvert_exporter": "python",
   "pygments_lexer": "ipython3",
   "version": "3.8.3"
  }
 },
 "nbformat": 4,
 "nbformat_minor": 4
}
