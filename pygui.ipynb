{
 "cells": [
  {
   "cell_type": "code",
   "execution_count": 1,
   "metadata": {},
   "outputs": [
    {
     "name": "stdout",
     "output_type": "stream",
     "text": [
      "/Users/aaronciuffo/bin/develtools/nbconvert, ./pygui.ipynb,\n",
      "[NbConvertApp] Converting notebook ./pygui.ipynb to python\n"
     ]
    }
   ],
   "source": [
    "%alias nbconvert nbconvert ./pygui.ipynb\n",
    "%nbconvert"
   ]
  },
  {
   "cell_type": "code",
   "execution_count": 2,
   "metadata": {},
   "outputs": [
    {
     "name": "stdout",
     "output_type": "stream",
     "text": [
      "/Users/aaronciuffo/bin/develtools/nbconvert, ./pygui.ipynb,\n",
      "[NbConvertApp] Converting notebook ./pygui.ipynb to python\n"
     ]
    }
   ],
   "source": [
    "%nbconvert "
   ]
  },
  {
   "cell_type": "code",
   "execution_count": 15,
   "metadata": {},
   "outputs": [],
   "source": [
    "import PySimpleGUI as sg\n",
    "import logging\n",
    "import ArgConfigParse\n",
    "import sys\n",
    "import textwrap\n",
    "import constants\n",
    "from pathlib import Path"
   ]
  },
  {
   "cell_type": "code",
   "execution_count": 4,
   "metadata": {},
   "outputs": [],
   "source": [
    "logger = logging.getLogger(__name__)\n",
    "logger.setLevel(logging.DEBUG)\n",
    "\n",
    "# console handler for debug output\n",
    "# ch = logging.StreamHandler()\n",
    "# ch.setLevel(logging.DEBUG)\n",
    "formatter = logging.Formatter('%(asctime)s - %(name)s - %(levelname)s - %(message)s')\n",
    "# ch.setFormatter(formatter)\n",
    "\n",
    "# logger.addHandler(ch)\n",
    "\n"
   ]
  },
  {
   "cell_type": "code",
   "execution_count": 5,
   "metadata": {},
   "outputs": [],
   "source": [
    "def dict_to_keys(settings):\n",
    "    '''convert INI keys into PySimpleGUI keys\n",
    "    Args:\n",
    "        settings(`dictionary`): single level dictionary {'key_one': 'value1', 'value_two': 'value 2'}\n",
    "        \n",
    "    Retruns:\n",
    "        `dict: single level dictionary {'-KEY ONE-': 'value1', '-VALUE TWO-': 'value 2'}'''\n",
    "    keys_to_elements = {}\n",
    "    for key in settings:\n",
    "        keys_to_elements[key] = '-'+key.replace('_', ' ').upper()+'-'\n",
    "    \n",
    "    return keys_to_elements"
   ]
  },
  {
   "cell_type": "code",
   "execution_count": 6,
   "metadata": {},
   "outputs": [],
   "source": [
    "def keys_to_dict(settings):\n",
    "    '''normalize PySimpleGUI keys back to INI friendly keys\n",
    "    Args:\n",
    "        settings(`dictionary`): single level dictionary {'-KEY ONE-': 'value1', '-VALUE TWO-': 'value 2'}\n",
    "    \n",
    "    Returns:\n",
    "        `dict`: normalized INI frindly keys {'key_one': 'value1', 'value_two': 'value 2'}\n",
    "    '''\n",
    "    myDict = {}\n",
    "    for key in settings:\n",
    "        myDict[str(key).replace('-', '').replace(' ','_').lower()] = settings[key]\n",
    "        \n",
    "    return myDict"
   ]
  },
  {
   "cell_type": "code",
   "execution_count": 7,
   "metadata": {},
   "outputs": [],
   "source": [
    "def write_back_config(updates, config, section):\n",
    "    '''normalize PySimpleGUI variable keys and write back to argparser dictionary\n",
    "    \n",
    "       values that do not exist in the original configuration are ignored\n",
    "    \n",
    "    Args:\n",
    "        updates(`dict`): dictionary of keys and values returned by PySG window\n",
    "        config(`dict`): argparser nested INI style dictionary\n",
    "        section(`str`): key for section in config dictionary\n",
    "        \n",
    "    Returns:\n",
    "        tuple(dict, dict): (nested argparser style dictionary, ignored values)\n",
    "        \n",
    "    '''\n",
    "    normalized_dict = keys_to_dict(updates)\n",
    "    ignored = {}\n",
    "    for key in normalized_dict:\n",
    "        if key in config[section]:\n",
    "            logging.debug(f'updating {section}[{key}]')\n",
    "            config[section][key] = normalized_dict[key]\n",
    "        else:\n",
    "            logging.debug(f'ignoring key: {key}')\n",
    "            ignored[key] = normalized_dict[key]\n",
    "    \n",
    "    return config, ignored"
   ]
  },
  {
   "cell_type": "code",
   "execution_count": 8,
   "metadata": {},
   "outputs": [],
   "source": [
    "def create_settings_window(settings):\n",
    "    '''basic settings window'''\n",
    "    settings_keys_to_elements = dict_to_keys(settings)\n",
    "   \n",
    "    sg.theme('Material 2')\n",
    "        \n",
    "    def TextLabel(text): return sg.Text(text+':', justification='r', size=((20, 1)) )\n",
    "        \n",
    "    layout = [[sg.T('Settings', font='Any 18')],\n",
    "              [TextLabel('Google Drive Path'), sg.Input(key='-GOOGLE DRIVE-'), sg.FolderBrowse(initial_folder='/Volumes/', target='-GOOGLE DRIVE-')],\n",
    "              [sg.B('Save'), sg.B('Exit')]]\n",
    "\n",
    "    window = sg.Window('Settings', layout, keep_on_top=True, finalize=True)\n",
    "    \n",
    "    for key in settings_keys_to_elements:\n",
    "        try:\n",
    "            window[settings_keys_to_elements[key]].update(value=settings[key])\n",
    "        except Exception as e:\n",
    "            logging.warn(f'problem updating GUI window from settings: key = {key}')\n",
    "            \n",
    "    \n",
    "    return window"
   ]
  },
  {
   "cell_type": "code",
   "execution_count": 9,
   "metadata": {},
   "outputs": [],
   "source": [
    "def create_adv_settings_window(settings):\n",
    "    '''advanced settings window'''\n",
    "    settings_keys_to_elements = dict_to_keys(settings)\n",
    "    sg.theme('Material 2')\n",
    "    \n",
    "    def TextLabel(text): return sg.Text(text+':', justification='r', size=((20, 1)) )\n",
    "        \n",
    "    layout = [[sg.T('Advanced Settings', font='Any 18')],\n",
    "              [TextLabel('Student Folders'), sg.Input(key='-GRADE LEVEL DIRS-'), sg.FileBrowse(target='-GRADE LEVEL DIRS-')],\n",
    "              [TextLabel('Log Level'),  sg.Listbox(key='-LOG LEVEL-', values=('DEBUG', 'INFO', 'WARNING'), size=(20, 4))],\n",
    "              [sg.B('Save'), sg.B('Exit')]]\n",
    "    \n",
    "    window = sg.Window('Advanced Settings', layout, keep_on_top=True, finalize=True)\n",
    "    \n",
    "    for key in settings_keys_to_elements:\n",
    "        try:\n",
    "            window[settings_keys_to_elements[key]].update(value=settings[key])\n",
    "        except Exception as e:\n",
    "            logging.warning(f'problem updating GUI window from settings: key = {key}, {e}')\n",
    "            logging.warning(f'{type(e)}')\n",
    "    return window"
   ]
  },
  {
   "cell_type": "code",
   "execution_count": 10,
   "metadata": {},
   "outputs": [],
   "source": [
    "def create_main_window(settings):\n",
    "    '''main window'''\n",
    "    sg.theme('Material 2')\n",
    "    \n",
    "    layout = [[sg.T('Main Window')],\n",
    "              [sg.T('Stuff here')],\n",
    "#               [sg.ScrolledTextBox(size=(80,40), font='Courier 11')],\n",
    "              [sg.B('Run'), sg.B('Exit'), sg.B('Settings'), sg.B('Advanced Settings')]]\n",
    "    \n",
    "    return sg.Window('Main Application', layout)"
   ]
  },
  {
   "cell_type": "code",
   "execution_count": 11,
   "metadata": {},
   "outputs": [],
   "source": [
    "# def create_status_window():\n",
    "#     sg.theme('Material 2')\n",
    "    \n",
    "#     layout = [[sg.Text('Print stuff')],\n",
    "#                [sg.Output(size=(80, 20), key='-OUTPUT-')]]\n",
    "    \n",
    "#     return sg.Window('Status Window', layout)\n",
    "    "
   ]
  },
  {
   "cell_type": "code",
   "execution_count": 12,
   "metadata": {},
   "outputs": [],
   "source": [
    "def output(text, cols=65, indent=3):\n",
    "    '''wrap and indent output to make it easier to read; print wrapped text\n",
    "    Args:\n",
    "        text(`str`): text to format\n",
    "        cols(int): number of columns to wrap at\n",
    "        indent(int): number of spaces to add to second-N lines\n",
    "    Returns:\n",
    "        `str`: wrapped and indended string with linebreaks'''\n",
    "    wrapper = textwrap.TextWrapper()\n",
    "    wrapper.width = cols\n",
    "    wrapper.subsequent_indent = ' ' * indent\n",
    "    text = wrapper.wrap(text)\n",
    "    new_text = ''\n",
    "    for i in text:\n",
    "        new_text = new_text + i + '\\n'\n",
    "        \n",
    "    print(new_text)\n",
    "    return new_text"
   ]
  },
  {
   "cell_type": "code",
   "execution_count": 13,
   "metadata": {},
   "outputs": [],
   "source": [
    "def main():\n",
    "    \n",
    "    logfile = constants.appName+'.log'\n",
    "    logfile = Path('~/').expanduser()/Path(logfile)\n",
    "\n",
    "#     # file handler for all levels\n",
    "#     fh = logging.handlers.RotatingFileHandler(logfile, mode='a', maxBytes=2000, backupCount=2)\n",
    "#     fh.setLevel(logging.DEBUG)\n",
    "#     fh.setFormatter(formatter)\n",
    "\n",
    "#     logger.addHandler(fh)\n",
    "    \n",
    "    \n",
    "    parser = ArgConfigParse.ConfigFile(['./portfolioCreator.ini'])\n",
    "    parser.parse_config()\n",
    "    config = parser.config_dict\n",
    "    \n",
    "    \n",
    "    logger.setLevel(config['advanced_settings']['log_level'])\n",
    "    \n",
    "    window = create_main_window(config['user_settings'])\n",
    "    settings_updated = False\n",
    "    \n",
    "    sg.easy_print('Starting up', font='Courier 11', do_not_reroute_stdout=False, no_button=True, size=(80, 40), location=(10,10))\n",
    "    \n",
    "    logger.debug('')\n",
    "    \n",
    "    while True:\n",
    "        if window is None:\n",
    "            window = create_main_window(config['user_settings'])            \n",
    "        \n",
    "        \n",
    "#         window.Refresh()\n",
    "\n",
    "        event, values = window.read()\n",
    "                \n",
    "        if event in (sg.WIN_CLOSED, 'Exit'):\n",
    "            break\n",
    "            \n",
    "        if event == 'Settings':\n",
    "            event, values = create_settings_window(config['user_settings']).read(close=True)\n",
    "            \n",
    "            if event == 'Save':\n",
    "                window.close()\n",
    "                window = None\n",
    "                \n",
    "                config, ignored = write_back_config(values, config, 'user_settings')\n",
    "                \n",
    "                output('updating settings')\n",
    "                ArgConfigParse.write(config, './portfolioCreator.ini')                \n",
    "        \n",
    "        if event == 'Advanced Settings':\n",
    "            event, values = create_adv_settings_window(config['advanced_settings']).read(close=True)\n",
    "            \n",
    "            logger.debug(values)\n",
    "            \n",
    "            if event == 'Save':\n",
    "                window.close()\n",
    "                window = None\n",
    "                \n",
    "                # handle no changes to this setting\n",
    "                if len(values['-LOG LEVEL-'])<1:\n",
    "                    values['-LOG LEVEL-'] = [config['advanced_settings']['log_level']]\n",
    "                \n",
    "                # write back any changes\n",
    "                config, ignored = write_back_config(values, config, 'advanced_settings')\n",
    "                # store only the first item in the list\n",
    "                if isinstance(config['advanced_settings']['log_level'], list):\n",
    "                    config['advanced_settings']['log_level'] = config['advanced_settings']['log_level'][0]\n",
    "                \n",
    "                \n",
    "                output('saving advanced settings')\n",
    "                ArgConfigParse.write(config, './portfolioCreator.ini')\n",
    "                \n",
    "    \n",
    "\n",
    "\n",
    "    sg.easy_print_close()\n",
    "    window.close()\n",
    "    "
   ]
  },
  {
   "cell_type": "code",
   "execution_count": 14,
   "metadata": {},
   "outputs": [
    {
     "name": "stderr",
     "output_type": "stream",
     "text": [
      "DEBUG:__main__:\n",
      "WARNING:root:problem updating GUI window from settings: key = log_level, Update() got an unexpected keyword argument 'value'\n",
      "WARNING:root:<class 'TypeError'>\n",
      "DEBUG:__main__:{'-GRADE LEVEL DIRS-': 'student_dirs.txt', 'Browse': '', '-LOG LEVEL-': ['DEBUG']}\n",
      "WARNING:root:problem updating GUI window from settings: key = log_level, Update() got an unexpected keyword argument 'value'\n",
      "WARNING:root:<class 'TypeError'>\n",
      "DEBUG:__main__:{'-GRADE LEVEL DIRS-': 'student_dirs.txt', 'Browse': '', '-LOG LEVEL-': ['DEBUG']}\n"
     ]
    }
   ],
   "source": [
    "main()"
   ]
  },
  {
   "cell_type": "code",
   "execution_count": null,
   "metadata": {},
   "outputs": [],
   "source": [
    "\n"
   ]
  }
 ],
 "metadata": {
  "kernelspec": {
   "display_name": "portfolioCreator-alMouNtK",
   "language": "python",
   "name": "portfoliocreator-almountk"
  },
  "language_info": {
   "codemirror_mode": {
    "name": "ipython",
    "version": 3
   },
   "file_extension": ".py",
   "mimetype": "text/x-python",
   "name": "python",
   "nbconvert_exporter": "python",
   "pygments_lexer": "ipython3",
   "version": "3.7.7"
  }
 },
 "nbformat": 4,
 "nbformat_minor": 2
}
