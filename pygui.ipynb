{
 "cells": [
  {
   "cell_type": "code",
   "execution_count": 3,
   "metadata": {},
   "outputs": [],
   "source": [
    "import PySimpleGUI as sg"
   ]
  },
  {
   "cell_type": "code",
   "execution_count": 4,
   "metadata": {},
   "outputs": [
    {
     "data": {
      "text/plain": [
       "'Material2'"
      ]
     },
     "execution_count": 4,
     "metadata": {},
     "output_type": "execute_result"
    }
   ],
   "source": [
    "sg.theme('Material 2')"
   ]
  },
  {
   "cell_type": "code",
   "execution_count": 5,
   "metadata": {},
   "outputs": [
    {
     "name": "stdout",
     "output_type": "stream",
     "text": [
      "*** Duplicate key found in your layout -SHARED DRIVE- ***\n",
      "*** Replaced new key with -SHARED DRIVE-0 ***\n",
      "None {'-SHARED DRIVE-0': None, 'Browse': None}\n"
     ]
    }
   ],
   "source": [
    "text = 'Helvetica '\n",
    "data = 'Courier '\n",
    "\n",
    "title = '16'\n",
    "instructions = '10'\n",
    "prompt = '13'\n",
    "\n",
    "# width of fields\n",
    "dialogW = 80\n",
    "textW = 15\n",
    "\n",
    "\n",
    "layout = [[sg.Text('Google Shared Drive', font=text+title)],\n",
    "          [sg.Text('Locate the google Shared Drive that contains the cummulative folders.', font=text+instructions)],\n",
    "          [sg.Text('Current Selection:', font=text+prompt, size=(textW, 2)) , sg.Text(font=data+prompt, size=(dialogW,2), key='-SHARED DRIVE-')],\n",
    "          [sg.Input(key='-SHARED DRIVE-', size=(dialogW, 1)), sg.FolderBrowse(target='-SHARED DRIVE-')],\n",
    "          [sg.Button('Enter')],\n",
    "          [sg.Button('Exit')]]\n",
    "\n",
    "window = sg.Window('Google Shared Drive', layout)\n",
    "\n",
    "while True:  # Event Loop\n",
    "    event, values = window.read()\n",
    "    print(event, values)\n",
    "    if event == sg.WIN_CLOSED or event == 'Exit':\n",
    "        break\n",
    "    if event == 'Enter':\n",
    "        # Update the \"output\" text element to be the value of \"input\" element\n",
    "        window['-OUTPUT-'].update(values['-SHARED DRIVE-'])\n",
    "\n",
    "window.close()"
   ]
  },
  {
   "cell_type": "code",
   "execution_count": null,
   "metadata": {},
   "outputs": [],
   "source": [
    "import PySimpleGUI as sg\n",
    "\n",
    "choices = ('Red', 'Green', 'Blue', 'Yellow', 'Orange', 'Purple', 'Chartreuse')\n",
    "\n",
    "layout = [  [sg.Text('What is your favorite color?')],\n",
    "            [sg.Listbox(choices, size=(15, len(choices)), key='-COLOR-', enable_events=True)] ]\n",
    "\n",
    "window = sg.Window('Pick a color', layout)\n",
    "\n",
    "while True:                  # the event loop\n",
    "    event, values = window.read()\n",
    "    if event == sg.WIN_CLOSED:\n",
    "        break\n",
    "    if values['-COLOR-']:    # if something is highlighted in the list\n",
    "        sg.popup(f\"Your favorite color is {values['-COLOR-'][0]}\")\n",
    "window.close()"
   ]
  },
  {
   "cell_type": "code",
   "execution_count": 10,
   "metadata": {},
   "outputs": [],
   "source": [
    "def create_main_window(settings):\n",
    "    sg.theme(settings['theme'])\n",
    "\n",
    "    layout = [[sg.T('This is my main application')],\n",
    "              [sg.T('Add your primary window stuff in here')],\n",
    "              [sg.B('Ok'), sg.B('Exit'), sg.B('Change Settings')]]\n",
    "\n",
    "    return sg.Window('Main Application', layout)"
   ]
  },
  {
   "cell_type": "code",
   "execution_count": 11,
   "metadata": {},
   "outputs": [
    {
     "ename": "KeyError",
     "evalue": "'theme'",
     "output_type": "error",
     "traceback": [
      "\u001b[0;31m---------------------------------------------------------------------------\u001b[0m",
      "\u001b[0;31mKeyError\u001b[0m                                  Traceback (most recent call last)",
      "\u001b[0;32m<ipython-input-11-16033986d361>\u001b[0m in \u001b[0;36m<module>\u001b[0;34m\u001b[0m\n\u001b[0;32m----> 1\u001b[0;31m \u001b[0mcreate_main_window\u001b[0m\u001b[0;34m(\u001b[0m\u001b[0;34m{\u001b[0m\u001b[0;34m}\u001b[0m\u001b[0;34m)\u001b[0m\u001b[0;34m\u001b[0m\u001b[0;34m\u001b[0m\u001b[0m\n\u001b[0m",
      "\u001b[0;32m<ipython-input-10-03d103a61567>\u001b[0m in \u001b[0;36mcreate_main_window\u001b[0;34m(settings)\u001b[0m\n\u001b[1;32m      1\u001b[0m \u001b[0;32mdef\u001b[0m \u001b[0mcreate_main_window\u001b[0m\u001b[0;34m(\u001b[0m\u001b[0msettings\u001b[0m\u001b[0;34m)\u001b[0m\u001b[0;34m:\u001b[0m\u001b[0;34m\u001b[0m\u001b[0;34m\u001b[0m\u001b[0m\n\u001b[0;32m----> 2\u001b[0;31m     \u001b[0msg\u001b[0m\u001b[0;34m.\u001b[0m\u001b[0mtheme\u001b[0m\u001b[0;34m(\u001b[0m\u001b[0msettings\u001b[0m\u001b[0;34m[\u001b[0m\u001b[0;34m'theme'\u001b[0m\u001b[0;34m]\u001b[0m\u001b[0;34m)\u001b[0m\u001b[0;34m\u001b[0m\u001b[0;34m\u001b[0m\u001b[0m\n\u001b[0m\u001b[1;32m      3\u001b[0m \u001b[0;34m\u001b[0m\u001b[0m\n\u001b[1;32m      4\u001b[0m     layout = [[sg.T('This is my main application')],\n\u001b[1;32m      5\u001b[0m               \u001b[0;34m[\u001b[0m\u001b[0msg\u001b[0m\u001b[0;34m.\u001b[0m\u001b[0mT\u001b[0m\u001b[0;34m(\u001b[0m\u001b[0;34m'Add your primary window stuff in here'\u001b[0m\u001b[0;34m)\u001b[0m\u001b[0;34m]\u001b[0m\u001b[0;34m,\u001b[0m\u001b[0;34m\u001b[0m\u001b[0;34m\u001b[0m\u001b[0m\n",
      "\u001b[0;31mKeyError\u001b[0m: 'theme'"
     ]
    }
   ],
   "source": [
    "create_main_window({})"
   ]
  },
  {
   "cell_type": "raw",
   "metadata": {},
   "source": []
  }
 ],
 "metadata": {
  "kernelspec": {
   "display_name": "portfolioCreator-alMouNtK",
   "language": "python",
   "name": "portfoliocreator-almountk"
  },
  "language_info": {
   "codemirror_mode": {
    "name": "ipython",
    "version": 3
   },
   "file_extension": ".py",
   "mimetype": "text/x-python",
   "name": "python",
   "nbconvert_exporter": "python",
   "pygments_lexer": "ipython3",
   "version": "3.7.7"
  }
 },
 "nbformat": 4,
 "nbformat_minor": 2
}
