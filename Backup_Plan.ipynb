{
 "cells": [
  {
   "cell_type": "markdown",
   "id": "increased-symphony",
   "metadata": {},
   "source": [
    "# Backup Plan for CreateFolders\n",
    "If the create folders application is not available, an alternative method can be used for creating student folders manually.\n",
    "\n",
    "## Setup\n"
   ]
  },
  {
   "cell_type": "code",
   "execution_count": null,
   "id": "commercial-quarter",
   "metadata": {},
   "outputs": [],
   "source": [
    "!jupyter-nbconvert --to markdown Backup_Plan.ipynb\n"
   ]
  }
 ],
 "metadata": {
  "kernelspec": {
   "display_name": "portfolioCreator-alMouNtK",
   "language": "python",
   "name": "portfoliocreator-almountk"
  },
  "language_info": {
   "codemirror_mode": {
    "name": "ipython",
    "version": 3
   },
   "file_extension": ".py",
   "mimetype": "text/x-python",
   "name": "python",
   "nbconvert_exporter": "python",
   "pygments_lexer": "ipython3",
   "version": "3.9.1"
  }
 },
 "nbformat": 4,
 "nbformat_minor": 5
}
