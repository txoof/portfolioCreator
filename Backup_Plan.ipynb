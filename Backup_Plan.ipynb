{
 "cells": [
  {
   "cell_type": "markdown",
   "id": "southwest-nitrogen",
   "metadata": {},
   "source": [
    "# Backup Plan for CreateFolders\n",
    "If the create folders application is not available, an alternative method can be used for creating student folders manually.\n",
    "\n",
    "A short video version of these instructions can be found [here](https://drive.google.com/file/d/1K7LQUSNoOL8uj0MYqbRi0WV_58dTYj7J/view?usp=sharing)\n",
    "\n",
    "<a name=\"setup\"></a>\n",
    "## Setup\n",
    "You will need:\n",
    "* An account with access to the [student cumulative folders shared drive](https://drive.google.com/drive/folders/0AKKRR6NkiaQBUk9PVA)\n",
    "* Google Chrome -- please make sure you are signed in with an account that has access to the shared drive above (test by clicking the link)\n",
    "* The student template file available at this link: [Template File] (https://github.com/txoof/portfolioCreator/raw/master/backup/Cumulative_Folder_Template.zip) \n",
    "\n",
    "<a name=\"create_folder\"></a>\n",
    "## Creating a Folder\n",
    "Make sure you have downloaded the template file in the [previous step](#setup) before proceeding.\n",
    "1. Double click on the Template File to unzip it and produce a folder named \"XXXXXX - LName, FName\"\n",
    "2. Rename the folder so it matches the student ID, LastName, FirstName:\n",
    "    * `186768 - Lloyd Wright, Frank`\n",
    "2. Open Google Drive and Browse to the Shared Drive: [ASH Student Cumulative Folders](https://drive.google.com/drive/folders/176UqrsfSHrJX-9AXMzpTm7wtZYfPQj8U)\n",
    "    * Please use Google Chrome for this -- Safari and Firefox do not always handle uploading folders with sub-folders correctly\n",
    "3. Locate the correct ClassOf-XXXX Folder for the student and double click to open it\n",
    "    * If the ClassOf-XXXX folder does not yet exist, you may create one (e.g. for a new group of preschool students)\n",
    "4. Drag and drop the Template Folder into the the ClasOf-XXXX folder\n",
    "5. Select and copy the URL at the top of the screen -- you will need this in the next step\n",
    "6. Repeat steps 1-5 as needed for all new students.\n",
    "\n",
    "<a name=\"create_spreadsheet\"></a>\n",
    "## Creating the PowerSchool Data Import for the PS Administrator\n",
    "The procedure below will generate a TSV document that the PS Administrator can import into PowerSchool. You may add multiple students to the spreadsheet.\n",
    "1. Open the spreadsheet found [here](https://docs.google.com/spreadsheets/d/1DKuoQ_GjuOzyw07Nq1JXI39n4KJ1hvBT-9XwE-mbuEQ/copy) and make a copy when prompted\n",
    "2. Enter the Last Name, First Name, ClassOf information\n",
    "3. Paste the [URL copied in the previous section](#create_folder) into the URL field \n",
    "4. The final field will populate automatically\n",
    "5. Repeat as needed for each new student\n",
    "\n",
    "## Sending the Data to the PS Administrator\n",
    "The spreadsheet file must be downloaded as a TSV and sent to the PowerSchool Administrator for import into powerschool. Use the [spreadhseet created in the previous step](#create_spreadsheet) to complete these steps.\n",
    "1. Open the spreadsheet if it is not already open\n",
    "2. Click on the sheet tab \"WebView Links For PowerSchool\"\n",
    "3. Click *File > Download > Tab-Separated Values*\n",
    "4. Download the file\n",
    "5. Create an email and attach the file. Send the email to the PowerSchool Administrator with the subject line \"Cumulative Folder/Portfolio Links for PowerSchool Import\"\n",
    "\n",
    "\n",
    "\n"
   ]
  },
  {
   "cell_type": "code",
   "execution_count": 2,
   "id": "about-parcel",
   "metadata": {},
   "outputs": [
    {
     "name": "stdout",
     "output_type": "stream",
     "text": [
      "[NbConvertApp] Converting notebook Backup_Plan.ipynb to markdown\n",
      "[NbConvertApp] Writing 3167 bytes to Backup_Plan.md\n"
     ]
    }
   ],
   "source": [
    "!jupyter-nbconvert --to markdown Backup_Plan.ipynb\n"
   ]
  },
  {
   "cell_type": "code",
   "execution_count": null,
   "id": "criminal-server",
   "metadata": {},
   "outputs": [],
   "source": []
  }
 ],
 "metadata": {
  "kernelspec": {
   "display_name": "portfolioCreator-alMouNtK",
   "language": "python",
   "name": "portfoliocreator-almountk"
  },
  "language_info": {
   "codemirror_mode": {
    "name": "ipython",
    "version": 3
   },
   "file_extension": ".py",
   "mimetype": "text/x-python",
   "name": "python",
   "nbconvert_exporter": "python",
   "pygments_lexer": "ipython3",
   "version": "3.9.1"
  }
 },
 "nbformat": 4,
 "nbformat_minor": 5
}
