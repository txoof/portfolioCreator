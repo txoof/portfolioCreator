{
 "cells": [
  {
   "cell_type": "markdown",
   "id": "small-marketplace",
   "metadata": {},
   "source": [
    "# Backup Plan for CreateFolders\n",
    "If the create folders application is not available, an alternative method can be used for creating student folders.\n",
    "\n",
    "## Setup\n",
    "Download "
   ]
  },
  {
   "cell_type": "code",
   "execution_count": null,
   "id": "foster-custom",
   "metadata": {},
   "outputs": [],
   "source": [
    "!jupyter-nbconvert --to markdown Backup_Plan.ipynb\n"
   ]
  }
 ],
 "metadata": {
  "kernelspec": {
   "display_name": "portfolioCreator-alMouNtK",
   "language": "python",
   "name": "portfoliocreator-almountk"
  },
  "language_info": {
   "codemirror_mode": {
    "name": "ipython",
    "version": 3
   },
   "file_extension": ".py",
   "mimetype": "text/x-python",
   "name": "python",
   "nbconvert_exporter": "python",
   "pygments_lexer": "ipython3",
   "version": "3.9.1"
  }
 },
 "nbformat": 4,
 "nbformat_minor": 5
}
