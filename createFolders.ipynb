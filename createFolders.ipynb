{
 "cells": [
  {
   "cell_type": "code",
   "execution_count": 1,
   "metadata": {},
   "outputs": [],
   "source": [
    "%load_ext autoreload"
   ]
  },
  {
   "cell_type": "code",
   "execution_count": 2,
   "metadata": {},
   "outputs": [],
   "source": [
    "%autoreload 2\n",
    "%reload_ext autoreload"
   ]
  },
  {
   "cell_type": "code",
   "execution_count": 3,
   "metadata": {},
   "outputs": [],
   "source": [
    "import logging\n",
    "import csv\n",
    "import sys\n",
    "from pathlib import Path\n",
    "import subprocess\n"
   ]
  },
  {
   "cell_type": "code",
   "execution_count": 4,
   "metadata": {},
   "outputs": [],
   "source": [
    "logger = logging.getLogger(__name__)\n",
    "logger.root.setLevel('DEBUG')"
   ]
  },
  {
   "cell_type": "code",
   "execution_count": 5,
   "metadata": {},
   "outputs": [],
   "source": [
    "def csv_to_list(file):\n",
    "    '''read csv file `file` into a list\n",
    "    \n",
    "    Guess the CSV dialect (e.g. tsv, csv, etc.)\n",
    "    \n",
    "    Returns `list`'''\n",
    "    csvFile = Path(file).expanduser().absolute()\n",
    "    file_csv = []\n",
    "    \n",
    "    with open(csvFile, 'r') as file:\n",
    "        dialect = csv.Sniffer().sniff(file.read(1024))\n",
    "        file.seek(0)\n",
    "        reader = csv.reader(file, dialect)\n",
    "        for row in reader:\n",
    "            file_csv.append(row)\n",
    "\n",
    "    return file_csv"
   ]
  },
  {
   "cell_type": "code",
   "execution_count": 6,
   "metadata": {},
   "outputs": [],
   "source": [
    "def map_headers(csv_list, expected_headers=[]):\n",
    "    '''map row 0 of a csv as formatted as a list to a dictionary of expected header values'''\n",
    "    missing_headers = []\n",
    "    header_map = {}\n",
    "    \n",
    "    csvHeader = csv_list[0]\n",
    "    \n",
    "    logger.debug('checking for missing headers')\n",
    "    for each in expected_headers:\n",
    "        if each not in csvHeader:\n",
    "            missing_headers.append(each)\n",
    "            \n",
    "    if len(missing_headers) > 0:\n",
    "        logging.warning(f'missing expected headers: {missing_headers}')\n",
    "    for index, value in enumerate(csvHeader):\n",
    "        if value in expected_headers:\n",
    "            header_map[value] = index\n",
    "        \n",
    "    logging.debug('completed mapping')\n",
    "    return(header_map, missing_headers)"
   ]
  },
  {
   "cell_type": "code",
   "execution_count": 7,
   "metadata": {},
   "outputs": [],
   "source": [
    "def do_exit(e='unknown error in unknown module: BSoD!', exit_status=0, testing=False):\n",
    "    logging.info(f'exited before completion with exit code {exit_status}')\n",
    "    print('program exited due to errors')\n",
    "    print(e)\n",
    "    if not testing:\n",
    "        sys.exit(exit_status)"
   ]
  },
  {
   "cell_type": "code",
   "execution_count": 545,
   "metadata": {},
   "outputs": [],
   "source": [
    "class student_path(gd_path):\n",
    "    def __init__(self, path=None, class_of=None, id_number=None, name=None):\n",
    "        '''student directory in google drive; child class of gd_path:\n",
    "        \n",
    "        Args:\n",
    "        \n",
    "        Properties:\n",
    "            class_of(`str`): \"ClassOf-YYYY\" string representation of projected graduation year\n",
    "            name(`str`): \"Last, First\" string representation of student name\n",
    "            id_number(`int`): student id number\n",
    "            matches(`dict`):  name and webview link of directories that contain \"id_number\"\n",
    "            path_parts(`dict`): path compontents stored as dictionary keys'''\n",
    "        \n",
    "        super(student_path, self).__init__(path=path)\n",
    "        self.matches = {}\n",
    "        self.path_parts = {'ClassOf': None, 'id_number': None, 'name': None}\n",
    "        self.class_of = class_of\n",
    "        self.name = name\n",
    "        self.id_number = id_number\n",
    "    \n",
    "    \n",
    "    def __repr__(self):\n",
    "        return f'student_path({self.student_dir_name})'\n",
    "        \n",
    "    def __str__(self):\n",
    "        return f'{self.student_dir_name}'\n",
    "    \n",
    "    def get_xattr(self, attribute, file=None):\n",
    "        if not file:\n",
    "            file = self.student_dir_name\n",
    "        return super().get_xattr(attribute, file)\n",
    "    \n",
    "    @property\n",
    "    def class_of(self):\n",
    "        return self._class_of\n",
    "    \n",
    "    @class_of.setter\n",
    "    def class_of(self, class_of):\n",
    "        '''string representation of projected graduation date in format: \"ClassOf-YYYY\"\n",
    "        \n",
    "        Properties Set:\n",
    "            path_parts(`dict`): dictionary of component parts of path'''\n",
    "        if not class_of:\n",
    "            self._class_of = None\n",
    "        else:\n",
    "            # attempt to coerce strings from cSV file into type int\n",
    "            class_of = int(class_of)\n",
    "            if not isinstance(class_of, int):\n",
    "                raise TypeError('class_of must be of type `int`')\n",
    "        self.path_parts['ClassOf'] = f'ClassOf-{class_of}'\n",
    "        self._class_of = class_of\n",
    "        \n",
    "    @property\n",
    "    def name(self):\n",
    "        return self._name\n",
    "    \n",
    "    @name.setter\n",
    "    def name(self, name):\n",
    "        '''string representation of \"Last, First\" names\n",
    "        \n",
    "        Properties Set:\n",
    "            path_parts(`dict`): dictionary of component parts of path'''\n",
    "        if not name:\n",
    "            self._name = None\n",
    "        else:\n",
    "            if not isinstance (name, str):\n",
    "                raise TypeError('name must be of type `str`')\n",
    "        self.path_parts['name'] = name\n",
    "        self._name = name\n",
    "        \n",
    "    @property\n",
    "    def id_number(self):\n",
    "        return self._id_number\n",
    "    \n",
    "    @id_number.setter\n",
    "    def id_number(self, number):\n",
    "        '''integer of student id number\n",
    "        \n",
    "        Properties Set:\n",
    "            path_parts(`dict`): dictionary of component parts of path'''\n",
    "        if not number:\n",
    "            self._id_number = None\n",
    "        else:\n",
    "            # try to coerce number into type int\n",
    "            number = int(number)\n",
    "            if not isinstance (number, int):\n",
    "                raise TypeError('id_number must be of type `int`')\n",
    "        self.path_parts['id_number'] = number\n",
    "        self._id_number = number\n",
    "\n",
    "    @property\n",
    "    def student_dir_name(self):\n",
    "        '''full absolute path to student directory in format:\n",
    "            ClassOf-YYYY/Last, First - NNNNNNN'''\n",
    "        d = f\"/{self.path_parts['ClassOf']}/{self.path_parts['name']} - {self.path_parts['id_number']}\"\n",
    "        if self.path:\n",
    "            # not sure why this is needed, but any joining of self.root/Path(d) fails\n",
    "            d = f'{str(self.path)}/{d}'\n",
    "        return Path(d)\n",
    "    \n",
    "    # method for checking for similarly named student folders in this ClassOf folder\n",
    "    def check_similar(self):\n",
    "        '''check for similarly named directories based on student id number \n",
    "        within the path/ClassOf/ directory\n",
    "        \n",
    "        Properties Set:\n",
    "            self.matches(`dict`): dictionary of similar directories\n",
    "        Returns:\n",
    "            `bool`: True if matching directories found'''\n",
    "        similar = False\n",
    "        matches = {}\n",
    "        for i in self.student_dir_name.parent.glob(f\"*{self.path_parts['id_number']}*\"):\n",
    "            match_id = self.get_xattr('user.drive.id', self.student_dir_name.parent/i)\n",
    "            if i.absolute().is_dir():\n",
    "                url = '/'.join((self._dir_base, match_id[0]))\n",
    "            else:\n",
    "                url = '/'.join((self._file_base, match_id[0]))\n",
    "            matches[str(i)] = url\n",
    "        self.matches = matches\n",
    "        if matches:\n",
    "            similar = True\n",
    "        return similar\n",
    "\n",
    "    def mkdir(self, path=None, exist_ok=False, parents=True, kwargs={}):\n",
    "        '''make a google drive directory using pathlib.Path().mkdir()\n",
    "        \n",
    "        Args:\n",
    "            path(`str` or `Path`): defaults to self.student_dir_name\n",
    "            exist_ok(`bool`): True - do not raise error if directory exists\n",
    "            parents(`bool`): True - create parents if they do not exist\n",
    "            kwargs({}): pathlib.Path() kwargs\n",
    "            \n",
    "        Returns:\n",
    "            list[str]: google drive object ID string'''\n",
    "        if not path:\n",
    "            path = self.student_dir_name\n",
    "        logging.debug(f'calling super().mkdir(path={path})')\n",
    "        val = super().mkdir(path=path, exist_ok=exist_ok, parents=parents, **kwargs)\n",
    "        return val\n",
    "            \n",
    "        "
   ]
  },
  {
   "cell_type": "code",
   "execution_count": 533,
   "metadata": {},
   "outputs": [],
   "source": [
    "p = '/Volumes/GoogleDrive/Shared drives/IT Blabla I/Student Cumulative Folders (AKA Student Portfolios)'\n",
    "s = student_path(id_number=234569, path=p)\n",
    "# s.path = '/Volumes/GoogleDrive/Shared drives/IT Blabla I/Student Cumulative Folders (AKA Student Portfolios)'\n",
    "s.class_of = 1000\n",
    "s.name = \"name, some\""
   ]
  },
  {
   "cell_type": "code",
   "execution_count": 534,
   "metadata": {},
   "outputs": [
    {
     "name": "stdout",
     "output_type": "stream",
     "text": [
      "/Volumes/GoogleDrive/Shared drives/IT Blabla I/Student Cumulative Folders (AKA Student Portfolios)\n",
      "/Volumes/GoogleDrive/Shared drives/IT Blabla I/Student Cumulative Folders (AKA Student Portfolios)/ClassOf-1000/name, some - 234569\n"
     ]
    }
   ],
   "source": [
    "print(s.path)\n",
    "print(s.student_dir_name)"
   ]
  },
  {
   "cell_type": "code",
   "execution_count": 535,
   "metadata": {},
   "outputs": [
    {
     "name": "stdout",
     "output_type": "stream",
     "text": [
      "/Volumes/GoogleDrive/Shared drives/IT Blabla I/Student Cumulative Folders (AKA Student Portfolios)/ClassOf-1000/name, some - 234569\n"
     ]
    }
   ],
   "source": [
    "print(s)"
   ]
  },
  {
   "cell_type": "code",
   "execution_count": 536,
   "metadata": {},
   "outputs": [
    {
     "name": "stdout",
     "output_type": "stream",
     "text": [
      "https://drive.google.com/drive/folders/1Qri-HU7OK_SEOVV_RN5dbU1MJhJnD65I\n"
     ]
    }
   ],
   "source": [
    "print(s.webview_link)"
   ]
  },
  {
   "cell_type": "code",
   "execution_count": 467,
   "metadata": {},
   "outputs": [
    {
     "data": {
      "text/plain": [
       "{}"
      ]
     },
     "execution_count": 467,
     "metadata": {},
     "output_type": "execute_result"
    }
   ],
   "source": [
    "s.check_similar()\n",
    "s.matches"
   ]
  },
  {
   "cell_type": "code",
   "execution_count": 531,
   "metadata": {},
   "outputs": [
    {
     "name": "stderr",
     "output_type": "stream",
     "text": [
      "DEBUG:root:calling super().mkdir(path=/Volumes/GoogleDrive/Shared drives/IT Blabla I/Student Cumulative Folders (AKA Student Portfolios)/ClassOf-1000/name, some - 234569)\n",
      "DEBUG:root:using supplied path: /Volumes/GoogleDrive/Shared drives/IT Blabla I/Student Cumulative Folders (AKA Student Portfolios)/ClassOf-1000/name, some - 234569\n"
     ]
    },
    {
     "data": {
      "text/plain": [
       "['1j83z1VVKtpKdy4zO3m75laUazZgXhMK6']"
      ]
     },
     "execution_count": 531,
     "metadata": {},
     "output_type": "execute_result"
    }
   ],
   "source": [
    "s.mkdir(exist_ok=True)"
   ]
  },
  {
   "cell_type": "code",
   "execution_count": 95,
   "metadata": {},
   "outputs": [
    {
     "data": {
      "text/plain": [
       "PosixPath('/Volumes/GoogleDrive/Shared drives/IT Blabla I/Student Cumulative Folders (AKA Student Portfolios)/ClassOf-1000/a, b - 123456')"
      ]
     },
     "execution_count": 95,
     "metadata": {},
     "output_type": "execute_result"
    }
   ],
   "source": [
    "s.student_dir_name"
   ]
  },
  {
   "cell_type": "code",
   "execution_count": 77,
   "metadata": {},
   "outputs": [
    {
     "data": {
      "text/plain": [
       "['1j83z1VVKtpKdy4zO3m75laUazZgXhMK6']"
      ]
     },
     "execution_count": 77,
     "metadata": {},
     "output_type": "execute_result"
    }
   ],
   "source": [
    "s.get_xattr('user.drive.id')"
   ]
  },
  {
   "cell_type": "code",
   "execution_count": 510,
   "metadata": {},
   "outputs": [],
   "source": [
    "class gd_path():\n",
    "    def __init__(self, path=None):\n",
    "        '''google drive path class\n",
    "        \n",
    "        Attributes:\n",
    "            path(`str`): path to google drive drive object'''\n",
    "        self.confirmed = False\n",
    "        self.path = path\n",
    "        self._file_base = 'https://drive.google.com/file/d/'\n",
    "        self._dir_base = 'https://drive.google.com/drive/folders/'\n",
    "        self.is_file = False   \n",
    "    \n",
    "    \n",
    "    def __repr__(self):\n",
    "        return f'gd_path({self.path})'\n",
    "    \n",
    "    def __str__(self):\n",
    "        return f'{self.path}'\n",
    "    \n",
    "    @property\n",
    "    def path(self):\n",
    "        return self._path\n",
    "    \n",
    "    @path.setter\n",
    "    def path(self, path):\n",
    "        '''full path to object\n",
    "        \n",
    "        Args:\n",
    "            path(`str` or `Path`): /path/to/object\n",
    "            \n",
    "        Sets Attributes:\n",
    "            self.path: path to object\n",
    "            self.root: same as path for directories, parent directory for files\n",
    "            self.is_file: true for files and file-like objects, false for directories'''\n",
    "        if not path:\n",
    "            self._path = None\n",
    "        else:\n",
    "            self._path = Path(path)\n",
    "            if self._path.is_dir() and self._path.exists():\n",
    "                self.root = self._path\n",
    "                self.is_file = False\n",
    "            if self.path.is_file() and self._path.exists():\n",
    "                self.root = self._path.parent\n",
    "                self.is_file = True\n",
    "            \n",
    "            if not self._path.exists():\n",
    "                self.is_file = False\n",
    "                self.root = self._path.parent\n",
    "\n",
    "    @property\n",
    "    def webview_link(self):\n",
    "        '''full webview link to object in google drive'''\n",
    "        self._webview_link = None\n",
    "        try:\n",
    "            item_id = self.get_xattr('user.drive.id')\n",
    "        except FileNotFoundError as e:\n",
    "            logging.debug(f'{e}')\n",
    "            return None\n",
    "        except ChildProcessError as e:\n",
    "            logging.debug(f'{e}')\n",
    "            return None\n",
    "\n",
    "        if len(item_id) < 1:\n",
    "            return None\n",
    "        else:\n",
    "            item_id = item_id[0]\n",
    "        \n",
    "        \n",
    "        if not self.is_file:\n",
    "            self._webview_link = f'{self._dir_base}{item_id}'\n",
    "        if self.is_file:\n",
    "            self._webview_link = f'{self._file_base}{item_id}'\n",
    "        return self._webview_link\n",
    "            \n",
    "    def check_parent(self, expected):\n",
    "        '''checks if the parent matches the expected parent'''\n",
    "        if self.root.parents[0].name == expected:\n",
    "            return True\n",
    "        else:\n",
    "            return False\n",
    "        \n",
    "    def get_xattr(self, attribute, file=None):\n",
    "        '''get the extended attributes of a file or directory\n",
    "        Args:\n",
    "            file(`str` or Path): path to file\n",
    "            attribute('`str`'): attribute key to access\n",
    "\n",
    "        Returns:\n",
    "            `list` - attribute or key: attribute pairs\n",
    "\n",
    "        Raises:\n",
    "            FileNotFoundError - file or directory does not exist\n",
    "            ChildProcessError - xattr utility exits with non-zero code \n",
    "                This is common for files that have no extended attributes or do not\n",
    "                have the requested attribute'''\n",
    "        if not file:\n",
    "            file = self.path\n",
    "        else:\n",
    "            file = Path(file).absolute()\n",
    "            \n",
    "        attributes = []\n",
    "        if not file.exists():\n",
    "            raise FileNotFoundError(file)\n",
    "\n",
    "        p = subprocess.Popen(f'xattr -p  {attribute} \"{file.resolve()}\"', shell=True, stdout=subprocess.PIPE, stderr=subprocess.STDOUT)\n",
    "        for line in p.stdout.readlines():\n",
    "            attributes.append(line.decode(\"utf-8\").strip())\n",
    "    #         attributes = attributes + line.decode(\"utf-8\").strip()\n",
    "        retval = p.wait()\n",
    "        if retval != 0:\n",
    "            raise ChildProcessError(f'xattr exited with value: {retval}')\n",
    "        return attributes     \n",
    "\n",
    "    @property\n",
    "    def file_id(self, path=None):\n",
    "        '''unique file id for each object (directories or file)\n",
    "        \n",
    "        Args:\n",
    "            path(`str` or `Path`): path to object; defaults to self.path\n",
    "        \n",
    "        Returns:\n",
    "            `list` of `str` containing the file id'''\n",
    "        if not path:\n",
    "            path = self.path\n",
    "        try:\n",
    "            file_id = self.get_xattr('user.drive.id', path)\n",
    "        except FileNotFoundError as e:\n",
    "            logging.info(f'{path} does not appear to exist; cannot get attributes')\n",
    "            file_id = None\n",
    "        return file_id\n",
    "    \n",
    "    def confirm(self, path=None):\n",
    "        '''confirm that a created object has been sent over file stream\n",
    "        \n",
    "        Args:\n",
    "            path(`str` or `Path`): path to object; default is self.path\n",
    "        \n",
    "        Returns:\n",
    "            `list` of `str` containing the file id\n",
    "            \n",
    "        Attributes Set:\n",
    "            self.confirmed: True when object has been sent'''\n",
    "        \n",
    "        if not path:\n",
    "            path = self.path\n",
    "        file_id = self.file_id\n",
    "        \n",
    "        if file_id:\n",
    "            if 'local-' in file_id[0]:\n",
    "                self.confirmed = False\n",
    "                file_id = None\n",
    "            else:\n",
    "                self.confirmed = True\n",
    "        return file_id\n",
    "    \n",
    "    def mkdir(self, path=None, parents=False, exist_ok=False, kwargs={}):\n",
    "        '''create a directory using pathlib.Path().mkdir()\n",
    "        \n",
    "        Args:\n",
    "            path(`str` or `Path`): path to create\n",
    "            parents(`bool`): create parent directories - default false\n",
    "            exists_ok(`bool`): do not raise error if directory exists\n",
    "            kwargs: kwargs for pathlib.Path().mkdir()\n",
    "            \n",
    "        Returns:\n",
    "            file_id(`list`)'''\n",
    "        if not path:\n",
    "            path = self.path\n",
    "            logging.debug(f'using self.path: {path}')\n",
    "        else:\n",
    "            logging.debug(f'using supplied path: {path}')\n",
    "            \n",
    "        if path.is_file():\n",
    "            raise TypeError(f'{path} is a file')\n",
    "            \n",
    "        path = Path(path)\n",
    "            \n",
    "        path.mkdir(parents=parents, exist_ok=exist_ok, **kwargs)\n",
    "        if self.confirm(path):\n",
    "            file_id = self.get_xattr('user.drive.id', path)\n",
    "        return self.file_id\n",
    "    "
   ]
  },
  {
   "cell_type": "code",
   "execution_count": 283,
   "metadata": {},
   "outputs": [],
   "source": [
    "g = gd_path(path='/Volumes/GoogleDrive/Shared drives/IT Blabla I/xyz-pdq/spam/eggs_ham_spam')\n",
    "m = gd_path(path='/Volumes/GoogleDrive/My Drive/dev.csv')"
   ]
  },
  {
   "cell_type": "code",
   "execution_count": 285,
   "metadata": {},
   "outputs": [
    {
     "name": "stderr",
     "output_type": "stream",
     "text": [
      "INFO:root:/Volumes/GoogleDrive/Shared drives/IT Blabla I/xyz-pdq/spam/eggs_ham_spam does not appear to exist; cannot get attributes\n"
     ]
    }
   ],
   "source": [
    "g.file_id"
   ]
  },
  {
   "cell_type": "code",
   "execution_count": 286,
   "metadata": {},
   "outputs": [
    {
     "name": "stderr",
     "output_type": "stream",
     "text": [
      "INFO:root:/Volumes/GoogleDrive/Shared drives/IT Blabla I/xyz-pdq/spam/eggs_ham_spam does not appear to exist; cannot get attributes\n"
     ]
    }
   ],
   "source": [
    "g.confirm()"
   ]
  },
  {
   "cell_type": "code",
   "execution_count": 287,
   "metadata": {},
   "outputs": [
    {
     "data": {
      "text/plain": [
       "['local-223141']"
      ]
     },
     "execution_count": 287,
     "metadata": {},
     "output_type": "execute_result"
    }
   ],
   "source": [
    "g.mkdir(exist_ok=True)"
   ]
  },
  {
   "cell_type": "code",
   "execution_count": 291,
   "metadata": {},
   "outputs": [
    {
     "data": {
      "text/plain": [
       "['1Qpzp14230uUtd9GD4qjuVadxLK_Z4nXz']"
      ]
     },
     "execution_count": 291,
     "metadata": {},
     "output_type": "execute_result"
    }
   ],
   "source": [
    "g.confirm()"
   ]
  },
  {
   "cell_type": "code",
   "execution_count": 210,
   "metadata": {},
   "outputs": [
    {
     "name": "stderr",
     "output_type": "stream",
     "text": [
      "DEBUG:root:/Volumes/GoogleDrive/Shared drives/IT Blabla I/xyz-pdq\n"
     ]
    },
    {
     "name": "stdout",
     "output_type": "stream",
     "text": [
      "None\n",
      "https://drive.google.com/drive/folders/1vF1_x-_4dKRaPme9o0ZGuJO2pCMdTell\n"
     ]
    }
   ],
   "source": [
    "print(g.webview_link)\n",
    "print(m.webview_link)"
   ]
  },
  {
   "cell_type": "code",
   "execution_count": 212,
   "metadata": {},
   "outputs": [
    {
     "data": {
      "text/plain": [
       "PosixPath('/Volumes/GoogleDrive/Shared drives/IT Blabla I/xyz-pdq')"
      ]
     },
     "execution_count": 212,
     "metadata": {},
     "output_type": "execute_result"
    }
   ],
   "source": [
    "g.path"
   ]
  },
  {
   "cell_type": "code",
   "execution_count": 52,
   "metadata": {},
   "outputs": [
    {
     "data": {
      "text/plain": [
       "True"
      ]
     },
     "execution_count": 52,
     "metadata": {},
     "output_type": "execute_result"
    }
   ],
   "source": [
    "m.root.is_dir()"
   ]
  },
  {
   "cell_type": "code",
   "execution_count": 369,
   "metadata": {},
   "outputs": [
    {
     "ename": "FileExistsError",
     "evalue": "[Errno 17] File exists: '/Volumes/GoogleDrive/Shared drives/IT Blabla I/xyz-pdq/spam/eggs_ham_spam'",
     "output_type": "error",
     "traceback": [
      "\u001b[0;31m---------------------------------------------------------------------------\u001b[0m",
      "\u001b[0;31mFileExistsError\u001b[0m                           Traceback (most recent call last)",
      "\u001b[0;32m<ipython-input-369-0f5acee8874c>\u001b[0m in \u001b[0;36m<module>\u001b[0;34m\u001b[0m\n\u001b[0;32m----> 1\u001b[0;31m \u001b[0mg\u001b[0m\u001b[0;34m.\u001b[0m\u001b[0mpath\u001b[0m\u001b[0;34m.\u001b[0m\u001b[0mmkdir\u001b[0m\u001b[0;34m(\u001b[0m\u001b[0;34m)\u001b[0m\u001b[0;34m\u001b[0m\u001b[0;34m\u001b[0m\u001b[0m\n\u001b[0m",
      "\u001b[0;32m/Library/Frameworks/Python.framework/Versions/3.8/lib/python3.8/pathlib.py\u001b[0m in \u001b[0;36mmkdir\u001b[0;34m(self, mode, parents, exist_ok)\u001b[0m\n\u001b[1;32m   1282\u001b[0m             \u001b[0mself\u001b[0m\u001b[0;34m.\u001b[0m\u001b[0m_raise_closed\u001b[0m\u001b[0;34m(\u001b[0m\u001b[0;34m)\u001b[0m\u001b[0;34m\u001b[0m\u001b[0;34m\u001b[0m\u001b[0m\n\u001b[1;32m   1283\u001b[0m         \u001b[0;32mtry\u001b[0m\u001b[0;34m:\u001b[0m\u001b[0;34m\u001b[0m\u001b[0;34m\u001b[0m\u001b[0m\n\u001b[0;32m-> 1284\u001b[0;31m             \u001b[0mself\u001b[0m\u001b[0;34m.\u001b[0m\u001b[0m_accessor\u001b[0m\u001b[0;34m.\u001b[0m\u001b[0mmkdir\u001b[0m\u001b[0;34m(\u001b[0m\u001b[0mself\u001b[0m\u001b[0;34m,\u001b[0m \u001b[0mmode\u001b[0m\u001b[0;34m)\u001b[0m\u001b[0;34m\u001b[0m\u001b[0;34m\u001b[0m\u001b[0m\n\u001b[0m\u001b[1;32m   1285\u001b[0m         \u001b[0;32mexcept\u001b[0m \u001b[0mFileNotFoundError\u001b[0m\u001b[0;34m:\u001b[0m\u001b[0;34m\u001b[0m\u001b[0;34m\u001b[0m\u001b[0m\n\u001b[1;32m   1286\u001b[0m             \u001b[0;32mif\u001b[0m \u001b[0;32mnot\u001b[0m \u001b[0mparents\u001b[0m \u001b[0;32mor\u001b[0m \u001b[0mself\u001b[0m\u001b[0;34m.\u001b[0m\u001b[0mparent\u001b[0m \u001b[0;34m==\u001b[0m \u001b[0mself\u001b[0m\u001b[0;34m:\u001b[0m\u001b[0;34m\u001b[0m\u001b[0;34m\u001b[0m\u001b[0m\n",
      "\u001b[0;31mFileExistsError\u001b[0m: [Errno 17] File exists: '/Volumes/GoogleDrive/Shared drives/IT Blabla I/xyz-pdq/spam/eggs_ham_spam'"
     ]
    }
   ],
   "source": [
    "g.path.mkdir()"
   ]
  },
  {
   "cell_type": "code",
   "execution_count": 367,
   "metadata": {},
   "outputs": [],
   "source": [
    "def validate_data(csv_list, expected_headers, header_map):\n",
    "    valid = []\n",
    "    invalid = []\n",
    "\n",
    "    for row in csv_list[1:]:\n",
    "        good_row = True\n",
    "        for k in expected_headers.keys():\n",
    "            # test for coercable types\n",
    "            try:\n",
    "                test = expected_headers[k](row[header_map[k]])\n",
    "            except ValueError:\n",
    "#                 do_exit(f'Bad student.export: {k} contained {row[header_map[k]]}\\ncannot continue. Please try running the export again.')\n",
    "                logging.warning(f'{row}')\n",
    "                logging.warning(f'Bad student.export: column \"{k}\" contained \"{row[header_map[k]]}\"--this should be {(expected_headers[k])}')\n",
    "                invalid.append(row)\n",
    "                good_row = False\n",
    "                break\n",
    "        if  good_row:\n",
    "            valid.append(row)\n",
    "        \n",
    "    return valid, invalid\n",
    "            \n",
    "    "
   ]
  },
  {
   "cell_type": "code",
   "execution_count": 368,
   "metadata": {},
   "outputs": [
    {
     "name": "stderr",
     "output_type": "stream",
     "text": [
      "WARNING:root:['Fordney, Joseph', 'jfordney@ash.nl', 'Fordney', 'Joseph', 'llfordney@gmail.com', '10', '505567', '', '+31683014387', '+31615182071', '000.000.0000', 'twenty-twenty-two']\n",
      "WARNING:root:Bad student.export: column \"ClassOf\" contained \"twenty-twenty-two\"--this should be <class 'int'>\n",
      "WARNING:root:['Jaber, Fahad', 'fjaber@ash.nl', 'Jaber', 'Fahad', 'a.al-mahmoud@hotmail.com', '10', 'abc505564', '', '+31633337711', '+31633338808', '000.000.0000', '2022']\n",
      "WARNING:root:Bad student.export: column \"Student_Number\" contained \"abc505564\"--this should be <class 'int'>\n"
     ]
    }
   ],
   "source": [
    "v, i = validate_data(c, e, m)"
   ]
  },
  {
   "cell_type": "code",
   "execution_count": null,
   "metadata": {},
   "outputs": [],
   "source": [
    "print(g.get_xattr('user.drive.team_drive_id'))\n",
    "print(m.get_xattr('user.drive.id'))\n",
    "# print(m.get_xattr('user.drive.team_drive_id'))"
   ]
  },
  {
   "cell_type": "code",
   "execution_count": 293,
   "metadata": {},
   "outputs": [],
   "source": [
    "# def create_student_folders(csv_file, drive_path):"
   ]
  },
  {
   "cell_type": "code",
   "execution_count": 546,
   "metadata": {},
   "outputs": [],
   "source": [
    "def main():\n",
    "    \n",
    "#     csv_file = Path('./student.export.csv.text')\n",
    "    csv_file = Path('./bad.export.csv.text')\n",
    "    \n",
    "    drive_path = Path('/Volumes/GoogleDrive/Shared drives/IT Blabla I/Student Cumulative Folders (AKA Student Portfolios)')\n",
    "    \n",
    "#     expected_headers = ['LastFirst', 'ClassOf', 'Student_Number']\n",
    "    expected_headers ={'LastFirst': str, 'ClassOf': int, 'Student_Number': int}\n",
    "    \n",
    "    \n",
    "    ############\n",
    "    \n",
    "    logging.debug('starting up')\n",
    "    \n",
    "    # check drive path is on a shared drive \n",
    "    google_drive = gd_path(drive_path)\n",
    "    try:\n",
    "        google_drive.get_xattr('user.drive.id')\n",
    "    except ChildProcessError as e:\n",
    "        do_exit(f'The specified Google Drive \"{drive_path}\" is not a Shared Drive', 1)\n",
    "    except FileNotFoundError as e:\n",
    "        do_exit(f'The specified Google Shared Drive {drive_path}\" does not exist', 1)\n",
    "    \n",
    "    # check if export is OK\n",
    "    try:\n",
    "        csv_list = csv_to_list(csv_file)\n",
    "    except (FileNotFoundError, OSError, IOError) as e:\n",
    "        logging.error(f'could not read csv file: {csv_file}')\n",
    "        logging.error(f'{e}')\n",
    "        do_exit(e, 1)\n",
    "    \n",
    "    # check for headers in CSV file\n",
    "    header_map, missing_headers = map_headers(csv_list, expected_headers.keys())\n",
    "    \n",
    "    if len(missing_headers) > 0:\n",
    "        do_exit(f'{csv_file.name} is missing one or more headers:\\n\\t{missing_headers}\\nprogram cannot continue', 1)\n",
    "    \n",
    "    # validate the csv list\n",
    "    valid_rows, invalid_rows = validate_data(csv_list, expected_headers, header_map)\n",
    "\n",
    "    \n",
    "    directories = {'created': [], 'skipped': [], 'invalid': invalid_rows, 'confirmed': []\n",
    "                   'failed': []}\n",
    "    for row in valid_rows:\n",
    "        name = row[header_map['LastFirst']]\n",
    "        class_of = row[header_map['ClassOf']]\n",
    "        id_number = row[header_map['Student_Number']]\n",
    "        \n",
    "        s_path = student_path(path=drive_path,\n",
    "                              name=name, \n",
    "                              class_of=class_of, \n",
    "                              id_number=id_number)\n",
    "        \n",
    "        # check if there already exists a directory with the student number\n",
    "        if s_path.check_similar():\n",
    "            # flag those that have multiple entries\n",
    "            if len(s_path.matches) > 1:\n",
    "                logging.warning(f'multiple directories exist in {class_of} for {id_number}')\n",
    "                directories['skipped'].append((s_path, 'multiple'))\n",
    "            # flag those that already exist for auditing purposes\n",
    "            else:\n",
    "                logging.info(f'skipped entry for {class_of}/{name} - {id_number}')\n",
    "                directories['skipped'].append((s_path, 'exists'))\n",
    "\n",
    "                \n",
    "        else:\n",
    "            # create the directory\n",
    "            try:\n",
    "                s_path.mkdir(parents=True)\n",
    "            except FileExistsError as e:\n",
    "                logging.error(f'{s_path.student_dir_name} exists')\n",
    "                directories['skipped'].append((s_path, 'exists'))\n",
    "            else:\n",
    "                directories['created'].append(s_path)\n",
    "    \n",
    "    # double check that drectories were created and properly synced to google drive\n",
    "    for each in directories['created']:\n",
    "        # loop over the created directories N times with a longer delay each time\n",
    "        # check that everything is confirmed uploaded; if it is not after Nth time, \n",
    "        # log as 'failed'\n",
    "        pass\n",
    "    \n",
    "    return directories\n",
    "    \n",
    "    # cleanup\n",
    "    # handle invalid_rows\n",
    "    # check that all directories were created\n",
    "    \n"
   ]
  },
  {
   "cell_type": "code",
   "execution_count": 547,
   "metadata": {},
   "outputs": [
    {
     "name": "stderr",
     "output_type": "stream",
     "text": [
      "DEBUG:root:starting up\n",
      "DEBUG:__main__:checking for missing headers\n",
      "DEBUG:root:completed mapping\n",
      "WARNING:root:['Fordney, Joseph', 'jfordney@ash.nl', 'Fordney', 'Joseph', 'llfordney@gmail.com', '10', '505567', '', '+31683014387', '+31615182071', '000.000.0000', 'twenty-twenty-two']\n",
      "WARNING:root:Bad student.export: column \"ClassOf\" contained \"twenty-twenty-two\"--this should be <class 'int'>\n",
      "WARNING:root:['Jaber, Fahad', 'fjaber@ash.nl', 'Jaber', 'Fahad', 'a.al-mahmoud@hotmail.com', '10', 'abc505564', '', '+31633337711', '+31633338808', '000.000.0000', '2022']\n",
      "WARNING:root:Bad student.export: column \"Student_Number\" contained \"abc505564\"--this should be <class 'int'>\n",
      "WARNING:root:multiple directories exist in 2023 for 505586\n",
      "INFO:root:skipped entry for 2021/Lillie, Cameron - 505590\n"
     ]
    }
   ],
   "source": [
    "f = main()"
   ]
  },
  {
   "cell_type": "code",
   "execution_count": 567,
   "metadata": {},
   "outputs": [
    {
     "data": {
      "text/plain": [
       "['1j83z1VVKtpKdy4zO3m75laUazZgXhMK6']"
      ]
     },
     "execution_count": 567,
     "metadata": {},
     "output_type": "execute_result"
    }
   ],
   "source": [
    "f['skipped'][1][0].confirm()"
   ]
  },
  {
   "cell_type": "code",
   "execution_count": 557,
   "metadata": {},
   "outputs": [
    {
     "name": "stdout",
     "output_type": "stream",
     "text": [
      "/Volumes/GoogleDrive/Shared drives/IT Blabla I/Student Cumulative Folders (AKA Student Portfolios)/ClassOf-2023/Wanja, Michelle - 505586\n",
      "\thttps://drive.google.com/drive/folders//12osRSWUqTrudjRf7G1oJGrM1y0wkCCNw\n",
      "/Volumes/GoogleDrive/Shared drives/IT Blabla I/Student Cumulative Folders (AKA Student Portfolios)/ClassOf-2023/Wanja, Michelle-Amanda - 505586\n",
      "\thttps://drive.google.com/drive/folders//1R-SMZa_rpe_B_Sg-a_zLgr7VdLUtpdJl\n"
     ]
    }
   ],
   "source": [
    "# notify of students with multiple directories\n",
    "for each in f['skipped']:\n",
    "    if each[1] == 'multiple':\n",
    "        d = each[0].matches\n",
    "        for k in d:\n",
    "            print(f'{k}')\n",
    "            print(f'\\t{d[k]}')\n",
    "            "
   ]
  },
  {
   "cell_type": "code",
   "execution_count": 562,
   "metadata": {},
   "outputs": [
    {
     "name": "stdout",
     "output_type": "stream",
     "text": [
      "\"Lillie, Cameron - 505590\" already existed - no action needed\n"
     ]
    }
   ],
   "source": [
    "for each in f['skipped']:\n",
    "    if each[1] == 'exists':\n",
    "        print(f'\"{each[0].name} - {each[0].id_number}\" already existed - no action needed')"
   ]
  },
  {
   "cell_type": "code",
   "execution_count": null,
   "metadata": {},
   "outputs": [],
   "source": [
    "int(f[1][10])"
   ]
  },
  {
   "cell_type": "code",
   "execution_count": null,
   "metadata": {},
   "outputs": [],
   "source": []
  }
 ],
 "metadata": {
  "kernelspec": {
   "display_name": "portfolioCreator-ahiuVo4K",
   "language": "python",
   "name": "portfoliocreator-ahiuvo4k"
  },
  "language_info": {
   "codemirror_mode": {
    "name": "ipython",
    "version": 3
   },
   "file_extension": ".py",
   "mimetype": "text/x-python",
   "name": "python",
   "nbconvert_exporter": "python",
   "pygments_lexer": "ipython3",
   "version": "3.8.3"
  }
 },
 "nbformat": 4,
 "nbformat_minor": 4
}
