{
 "cells": [
  {
   "cell_type": "code",
   "execution_count": 1,
   "metadata": {},
   "outputs": [],
   "source": [
    "%load_ext autoreload"
   ]
  },
  {
   "cell_type": "code",
   "execution_count": 2,
   "metadata": {},
   "outputs": [],
   "source": [
    "%autoreload 2\n",
    "%reload_ext autoreload"
   ]
  },
  {
   "cell_type": "code",
   "execution_count": 109,
   "metadata": {},
   "outputs": [],
   "source": [
    "import logging\n",
    "import csv\n",
    "import sys\n",
    "from pathlib import Path\n",
    "import subprocess\n"
   ]
  },
  {
   "cell_type": "code",
   "execution_count": 4,
   "metadata": {},
   "outputs": [],
   "source": [
    "logger = logging.getLogger(__name__)\n",
    "logger.root.setLevel('DEBUG')"
   ]
  },
  {
   "cell_type": "code",
   "execution_count": 59,
   "metadata": {},
   "outputs": [],
   "source": [
    "def csv_to_list(file):\n",
    "    '''read csv file `file` into a list\n",
    "    \n",
    "    Guess the CSV dialect (e.g. tsv, csv, etc.)\n",
    "    \n",
    "    Returns `list`'''\n",
    "    csvFile = Path(file).expanduser().absolute()\n",
    "    file_csv = []\n",
    "    \n",
    "    with open(csvFile, 'r') as file:\n",
    "        dialect = csv.Sniffer().sniff(file.read(1024))\n",
    "        file.seek(0)\n",
    "        reader = csv.reader(file, dialect)\n",
    "        for row in reader:\n",
    "            file_csv.append(row)\n",
    "\n",
    "    return file_csv"
   ]
  },
  {
   "cell_type": "code",
   "execution_count": 61,
   "metadata": {},
   "outputs": [],
   "source": [
    "def map_headers(csv_list, expected_headers=[]):\n",
    "    '''map row 0 of a csv as formatted as a list to a dictionary of expected header values'''\n",
    "    missing_headers = []\n",
    "    header_map = {}\n",
    "    \n",
    "    csvHeader = csv_list[0]\n",
    "    \n",
    "    logger.debug('checking for missing headers')\n",
    "    for each in expected_headers:\n",
    "        if each not in csvHeader:\n",
    "            missing_headers.append(each)\n",
    "            \n",
    "    if len(missing_headers) > 0:\n",
    "        logging.warning(f'missing expected headers: {missing_headers}')\n",
    "    for index, value in enumerate(csvHeader):\n",
    "        if value in expected_headers:\n",
    "            header_map[value] = index\n",
    "        \n",
    "    logging.debug('completed mapping')\n",
    "    return(header_map, missing_headers)"
   ]
  },
  {
   "cell_type": "code",
   "execution_count": 16,
   "metadata": {},
   "outputs": [],
   "source": [
    "gd = Path('/Volumes/GoogleDrive/Shared drives/IT Blabla I/')"
   ]
  },
  {
   "cell_type": "code",
   "execution_count": 89,
   "metadata": {},
   "outputs": [],
   "source": [
    "def do_exit(e='unknown error in unknown module: BSoD!', exit_status=0, testing=False):\n",
    "    logging.info(f'exited before completion with exit code {exit_status}')\n",
    "    print('program exited due to errors')\n",
    "    print(e)\n",
    "    if not testing:\n",
    "        sys.exit(exit_status)"
   ]
  },
  {
   "cell_type": "code",
   "execution_count": 119,
   "metadata": {},
   "outputs": [],
   "source": [
    "p = subprocess.Popen('xattr -p user.drive.itemprotostr \"/Volumes/GoogleDrive/Shared drives/IT Blabla I/foo.txt\"', shell=True, stdout=subprocess.PIPE, stderr=subprocess.STDOUT)"
   ]
  },
  {
   "cell_type": "code",
   "execution_count": 120,
   "metadata": {},
   "outputs": [
    {
     "name": "stdout",
     "output_type": "stream",
     "text": [
      "b'id: \"1YfYhQWnmlOnZIn41Wnp2HgDf760JLTwM\"\\n'\n",
      "b'parent: \"0ACLfU8KeD_BHUk9PVA\"\\n'\n",
      "b'title: \"foo.txt\"\\n'\n",
      "b'mime_type: \"text/plain\"\\n'\n",
      "b'starred: false\\n'\n",
      "b'trashed: false\\n'\n",
      "b'create_date_millis: 1539342132044\\n'\n",
      "b'modified_date_millis: 1539342144059\\n'\n",
      "b'last_viewed_by_me_date_millis: 1539342144059\\n'\n",
      "b'file_size: 30\\n'\n",
      "b'explicitly_trashed: false\\n'\n",
      "b'subscribed: false\\n'\n",
      "b'has_thumbnail: true\\n'\n",
      "b'file_extension: \"txt\"\\n'\n",
      "b'primary_sync_parent: \"\"\\n'\n",
      "b'md5_checksum: \"ca2ee7374a46a4a0efa1bd2c1ccd3731\"\\n'\n",
      "b'property {\\n'\n",
      "b'  key: \"local-title\"\\n'\n",
      "b'  string_value: \"foo.txt\"\\n'\n",
      "b'}\\n'\n",
      "b'property {\\n'\n",
      "b'  key: \"version-counter\"\\n'\n",
      "b'  int64_value: 4\\n'\n",
      "b'}\\n'\n",
      "b'property {\\n'\n",
      "b'  key: \"content-entry\"\\n'\n",
      "b'  binary_value: \"\\\\010\\\\261\\\\243\\\\n\\\\02230B9WTleJ1MzaYVExMSmxtdkduQzZBQ3ZvTUM0Z1hTL1FFS29jPQ\\\\032!1YfYhQWnmlOnZIn41Wnp2HgDf760JLTwM \\\\036\"\\n'\n",
      "b'}\\n'\n",
      "b'etag: \"\\\\\"1539342144059\\\\\"\"\\n'\n",
      "b'editable: true\\n'\n",
      "b'can_comment: true\\n'\n",
      "b'server_create_date_millis: 1539342139768\\n'\n",
      "b'team_drive_id: \"0ACLfU8KeD_BHUk9PVA\"\\n'\n",
      "b'version: 11\\n'\n",
      "b'has_own_permissions: false\\n'\n",
      "b'head_revision_id: \"0B9WTleJ1MzaYVExMSmxtdkduQzZBQ3ZvTUM0Z1hTL1FFS29jPQ\"\\n'\n",
      "b'capabilities {\\n'\n",
      "b'  can_add_children: false\\n'\n",
      "b'  can_comment: true\\n'\n",
      "b'  can_copy: true\\n'\n",
      "b'  can_delete: true\\n'\n",
      "b'  can_download: true\\n'\n",
      "b'  can_edit: true\\n'\n",
      "b'  can_remove_children: false\\n'\n",
      "b'  can_share: true\\n'\n",
      "b'  can_trash: true\\n'\n",
      "b'  can_manage_members: true\\n'\n",
      "b'  can_manage_visitors: true\\n'\n",
      "b'  can_rename: true\\n'\n",
      "b'  can_modify_content: true\\n'\n",
      "b'  can_move_item_within_team_drive: true\\n'\n",
      "b'  can_move_children_within_team_drive: false\\n'\n",
      "b'  can_delete_children: false\\n'\n",
      "b'  can_trash_children: false\\n'\n",
      "b'  can_move_item_within_drive: true\\n'\n",
      "b'  can_move_children_within_drive: false\\n'\n",
      "b'  can_add_folder_from_another_drive: false\\n'\n",
      "b'}\\n'\n",
      "b'stable_id: 1176\\n'\n",
      "b'parent_stable_id: 108\\n'\n",
      "b'passively_subscribed: false\\n'\n",
      "b'team_drive_stable_id: 108\\n'\n",
      "b'has_visitor_permissions: false\\n'\n",
      "b'last_viewed_by_me_or_created_date_millis: 1539342144059\\n'\n",
      "b'photos_storage_policy: \"original\"\\n'\n",
      "b'customer_id: \"034jf2t3\"\\n'\n",
      "b'ancestor_has_own_permissions: false\\n'\n",
      "b'\\n'\n"
     ]
    }
   ],
   "source": [
    "j = ''\n",
    "for each in p.stdout.readlines():\n",
    "    for"
   ]
  },
  {
   "cell_type": "code",
   "execution_count": null,
   "metadata": {},
   "outputs": [],
   "source": []
  },
  {
   "cell_type": "code",
   "execution_count": 103,
   "metadata": {},
   "outputs": [],
   "source": [
    "class gd_path():\n",
    "    def __init__(self, path=None, drive_id=None, url=None):\n",
    "        self.path = path\n",
    "        self.drive_id = drive_id\n",
    "        self.url = url\n",
    "    \n",
    "    @property\n",
    "    def path(self):\n",
    "        return self._path\n",
    "    \n",
    "    @path.setter\n",
    "    def path(self, path):\n",
    "        self._path = Path(path).expanduser().absolute()\n",
    "        \n",
    "        \n",
    "    "
   ]
  },
  {
   "cell_type": "code",
   "execution_count": 104,
   "metadata": {},
   "outputs": [],
   "source": [
    "g = gd_path('/Volumes/GoogleDrive/Shared drives/IT Blabla I/foo')"
   ]
  },
  {
   "cell_type": "code",
   "execution_count": 107,
   "metadata": {},
   "outputs": [
    {
     "data": {
      "text/plain": [
       "PosixPath('/Volumes/GoogleDrive/Shared drives/IT Blabla I/foo')"
      ]
     },
     "execution_count": 107,
     "metadata": {},
     "output_type": "execute_result"
    }
   ],
   "source": [
    "g.path"
   ]
  },
  {
   "cell_type": "code",
   "execution_count": 94,
   "metadata": {},
   "outputs": [],
   "source": [
    "def main():\n",
    "    \n",
    "    \n",
    "    csv_file = Path('./student.export.csv.text')\n",
    "    \n",
    "    drive_path = Path('/Volumes/GoogleDrive/Shared drives/IT Blabla I/')\n",
    "    \n",
    "    expected_headers = ['LastFirst', 'ClassOf', 'Student_Number']\n",
    "    expected_headers ={'LastFirst': str, 'ClassOf': int, 'Student_Number': int}\n",
    "    \n",
    "    ############\n",
    "    \n",
    "    logging.debug('starting up')\n",
    "    try:\n",
    "        csv_list = csv_to_list(csv_file)\n",
    "    except (FileNotFoundError, OSError, IOError) as e:\n",
    "        logging.error(f'could not read csv file: {csv_file}')\n",
    "        logging.error(f'{e}')\n",
    "        do_exit(e, 1)\n",
    "    \n",
    "    header_map, missing_headers = map_headers(csv_list, expected_headers.keys())\n",
    "    \n",
    "    if len(missing_headers) > 0:\n",
    "        do_exit(f'{csv_file.name} is missing one or more headers:\\n\\t{missing_headers}', 1)\n",
    "    \n",
    "    \n",
    "    return\n",
    "    \n"
   ]
  },
  {
   "cell_type": "code",
   "execution_count": 95,
   "metadata": {},
   "outputs": [
    {
     "name": "stderr",
     "output_type": "stream",
     "text": [
      "DEBUG:root:starting up\n",
      "DEBUG:__main__:checking for missing headers\n",
      "DEBUG:root:completed mapping\n"
     ]
    }
   ],
   "source": [
    "f = main()"
   ]
  },
  {
   "cell_type": "code",
   "execution_count": 75,
   "metadata": {},
   "outputs": [
    {
     "name": "stdout",
     "output_type": "stream",
     "text": [
      "[['LastFirst', 'U_StudentsUserFields.emailstudent', 'Last_Name', 'First_Name', 'GuardianEmail', 'Grade_Level', 'Student_Number', 'StudentCoreFields.fatherdayphone', 'U_StudentsUserFields.father_mobile', 'U_StudentsUserFields.mother_mobile', 'Home_Phone', 'ClassOf'], ['Wanja, Michelle', 'mwanja@ash.nl', 'Wanja', 'Michelle', 'info@kenyaembassy.nl', '9', '505586', '', '', '+31617226808', '070.406.5427', '2023'], ['Fordney, Joseph', 'jfordney@ash.nl', 'Fordney', 'Joseph', 'llfordney@gmail.com', '10', '505567', '', '+31683014387', '+31615182071', '000.000.0000', '2022'], ['Jaber, Fahad', 'fjaber@ash.nl', 'Jaber', 'Fahad', 'a.al-mahmoud@hotmail.com', '10', '505564', '', '+31633337711', '+31633338808', '000.000.0000', '2022'], ['Lillie, Cameron', 'clillie@ash.nl', 'Lillie', 'Cameron', 'julie.j.alexander@shell.com', '11', '505590', '', '+27793990604', '+31627269945', '000.000.0000', '2021']]\n"
     ]
    }
   ],
   "source": [
    "print( f)"
   ]
  },
  {
   "cell_type": "code",
   "execution_count": null,
   "metadata": {},
   "outputs": [],
   "source": []
  }
 ],
 "metadata": {
  "kernelspec": {
   "display_name": "portfolioCreator-ahiuVo4K",
   "language": "python",
   "name": "portfoliocreator-ahiuvo4k"
  },
  "language_info": {
   "codemirror_mode": {
    "name": "ipython",
    "version": 3
   },
   "file_extension": ".py",
   "mimetype": "text/x-python",
   "name": "python",
   "nbconvert_exporter": "python",
   "pygments_lexer": "ipython3",
   "version": "3.8.3"
  }
 },
 "nbformat": 4,
 "nbformat_minor": 4
}
