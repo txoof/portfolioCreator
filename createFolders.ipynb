{
 "cells": [
  {
   "cell_type": "code",
   "execution_count": 1,
   "metadata": {},
   "outputs": [],
   "source": [
    "%load_ext autoreload"
   ]
  },
  {
   "cell_type": "code",
   "execution_count": 2,
   "metadata": {},
   "outputs": [],
   "source": [
    "%autoreload 2\n",
    "%reload_ext autoreload"
   ]
  },
  {
   "cell_type": "code",
   "execution_count": 3,
   "metadata": {},
   "outputs": [],
   "source": [
    "import logging\n",
    "import csv\n",
    "import sys\n",
    "from pathlib import Path\n",
    "import subprocess\n"
   ]
  },
  {
   "cell_type": "code",
   "execution_count": 4,
   "metadata": {},
   "outputs": [],
   "source": [
    "logger = logging.getLogger(__name__)\n",
    "logger.root.setLevel('DEBUG')"
   ]
  },
  {
   "cell_type": "code",
   "execution_count": 5,
   "metadata": {},
   "outputs": [],
   "source": [
    "def csv_to_list(file):\n",
    "    '''read csv file `file` into a list\n",
    "    \n",
    "    Guess the CSV dialect (e.g. tsv, csv, etc.)\n",
    "    \n",
    "    Returns `list`'''\n",
    "    csvFile = Path(file).expanduser().absolute()\n",
    "    file_csv = []\n",
    "    \n",
    "    with open(csvFile, 'r') as file:\n",
    "        dialect = csv.Sniffer().sniff(file.read(1024))\n",
    "        file.seek(0)\n",
    "        reader = csv.reader(file, dialect)\n",
    "        for row in reader:\n",
    "            file_csv.append(row)\n",
    "\n",
    "    return file_csv"
   ]
  },
  {
   "cell_type": "code",
   "execution_count": 6,
   "metadata": {},
   "outputs": [],
   "source": [
    "def map_headers(csv_list, expected_headers=[]):\n",
    "    '''map row 0 of a csv as formatted as a list to a dictionary of expected header values'''\n",
    "    missing_headers = []\n",
    "    header_map = {}\n",
    "    \n",
    "    csvHeader = csv_list[0]\n",
    "    \n",
    "    logger.debug('checking for missing headers')\n",
    "    for each in expected_headers:\n",
    "        if each not in csvHeader:\n",
    "            missing_headers.append(each)\n",
    "            \n",
    "    if len(missing_headers) > 0:\n",
    "        logging.warning(f'missing expected headers: {missing_headers}')\n",
    "    for index, value in enumerate(csvHeader):\n",
    "        if value in expected_headers:\n",
    "            header_map[value] = index\n",
    "        \n",
    "    logging.debug('completed mapping')\n",
    "    return(header_map, missing_headers)"
   ]
  },
  {
   "cell_type": "code",
   "execution_count": 8,
   "metadata": {},
   "outputs": [],
   "source": [
    "def do_exit(e='unknown error in unknown module: BSoD!', exit_status=0, testing=False):\n",
    "    logging.info(f'exited before completion with exit code {exit_status}')\n",
    "    print('program exited due to errors')\n",
    "    print(e)\n",
    "    if not testing:\n",
    "        sys.exit(exit_status)"
   ]
  },
  {
   "cell_type": "code",
   "execution_count": 173,
   "metadata": {},
   "outputs": [],
   "source": [
    "class student_path(gd_path):\n",
    "    def __init__(self, class_of=None, id_number=None, name=None):\n",
    "        super(student_path, self).__init__()\n",
    "        self.path_parts = {'ClassOf': None, 'id_number': None, 'name': None}\n",
    "        self.class_of = class_of\n",
    "        self.name = name\n",
    "        self.id_number = id_number\n",
    "        \n",
    "    @property\n",
    "    def class_of(self):\n",
    "        return self._class_of\n",
    "    \n",
    "    @class_of.setter\n",
    "    def class_of(self, class_of):\n",
    "        if not class_of:\n",
    "            self._class_of = None\n",
    "        else:    \n",
    "            if not isinstance(class_of, int):\n",
    "                raise TypeError('class_of must be of type `int`')\n",
    "        self.path_parts['ClassOf'] = f'ClassOf-{class_of}'\n",
    "        self._class_of = class_of\n",
    "        \n",
    "    @property\n",
    "    def name(self):\n",
    "        return self._name\n",
    "    \n",
    "    @name.setter\n",
    "    def name(self, name):\n",
    "        if not name:\n",
    "            self._name = None\n",
    "        else:\n",
    "            if not isinstance (name, str):\n",
    "                raise TypeError('name must be of type `str`')\n",
    "        self.path_parts['name'] = name\n",
    "        self._name = name\n",
    "        \n",
    "    @property\n",
    "    def id_number(self):\n",
    "        return self._id_number\n",
    "    \n",
    "    @id_number.setter\n",
    "    def id_number(self, number):\n",
    "        if not number:\n",
    "            self._id_number = None\n",
    "        else:\n",
    "            if not isinstance (number, int):\n",
    "                raise TypeError('id_number must be of type `int`')\n",
    "        self.path_parts['id_number'] = number\n",
    "        self._id_number = number\n",
    "        \n",
    "    @property \n",
    "    def student_dir_name(self):\n",
    "        d = f\"/{self.path_parts['ClassOf']}/{self.path_parts['name']} - {self.path_parts['id_number']}\"\n",
    "        return Path(d)\n",
    "    \n",
    "\n",
    "                                "
   ]
  },
  {
   "cell_type": "code",
   "execution_count": 177,
   "metadata": {},
   "outputs": [],
   "source": [
    "s = student_path(id_number=12345)\n",
    "s.class_of = 2030\n",
    "s.name = \"Eggs, Spam\""
   ]
  },
  {
   "cell_type": "code",
   "execution_count": 178,
   "metadata": {},
   "outputs": [
    {
     "name": "stdout",
     "output_type": "stream",
     "text": [
      "{'ClassOf': 'ClassOf-2030', 'id_number': 12345, 'name': 'Eggs, Spam'}\n"
     ]
    }
   ],
   "source": [
    "print(s.path_parts)"
   ]
  },
  {
   "cell_type": "code",
   "execution_count": 179,
   "metadata": {},
   "outputs": [
    {
     "data": {
      "text/plain": [
       "PosixPath('/ClassOf-2030/Eggs, Spam - 12345')"
      ]
     },
     "execution_count": 179,
     "metadata": {},
     "output_type": "execute_result"
    }
   ],
   "source": [
    "s.student_dir_name"
   ]
  },
  {
   "cell_type": "code",
   "execution_count": 87,
   "metadata": {},
   "outputs": [],
   "source": [
    "class gd_path():\n",
    "    def __init__(self, path=None):\n",
    "        '''google drive path class\n",
    "        \n",
    "        Attributes:\n",
    "            path(`str`): path to google drive shared drive'''\n",
    "        self.path = path\n",
    "        self._file_base = 'https://drive.google.com/file/d/'\n",
    "        self._dir_base = 'https://drive.google.com/drive/folders/'\n",
    "#         self.webview_link\n",
    "    \n",
    "    @property\n",
    "    def path(self):\n",
    "        return self._path\n",
    "    \n",
    "    @path.setter\n",
    "    def path(self, path):\n",
    "        if not path:\n",
    "            self._path = None\n",
    "        else:\n",
    "            self._path = Path(path).expanduser().absolute()\n",
    "\n",
    "    @property\n",
    "    def webview_link(self):\n",
    "        self._webview_link = None\n",
    "        try:\n",
    "            item_id = self.get_xattr('user.drive.id')\n",
    "        except FileNotFoundError as e:\n",
    "            logging.debug(f'{e}')\n",
    "            return None\n",
    "        except ChildProcessError as e:\n",
    "            logging.debug(f'{e}')\n",
    "            return None\n",
    "\n",
    "        if len(item_id) < 1:\n",
    "            return None\n",
    "        else:\n",
    "            item_id = item_id[0]\n",
    "        \n",
    "        \n",
    "        if self.path.is_dir():\n",
    "            self._webview_link = f'{self._dir_base}{item_id}'\n",
    "        if self.path.is_file():\n",
    "            self._webview_link = f'{self._file_base}{item_id}'\n",
    "        return self._webview_link\n",
    "            \n",
    "    def check_parent(self, expected):\n",
    "        '''checks if the parent matches the expected parent'''\n",
    "        if self.path.parents[0].name == expected:\n",
    "            return True\n",
    "        else:\n",
    "            return False\n",
    "        \n",
    "    def get_xattr(self, attribute, file=None):\n",
    "        '''get the extended attributes of a file or directory\n",
    "        Args:\n",
    "            file(`str` or Path): path to file\n",
    "            attribute('`str`'): attribute key to access\n",
    "\n",
    "        Returns:\n",
    "            `list` - attribute or key: attribute paris\n",
    "\n",
    "        Raises:\n",
    "            FileNotFoundError - file or directory does not exist\n",
    "            ChildProcessError - xattr utility exits with non-zero code \n",
    "                This is common for files that have no extended attributes or do not\n",
    "                have the requested attribute'''\n",
    "        if not file:\n",
    "            file = self.path\n",
    "        else:\n",
    "            file = Path(file).absolute()\n",
    "            \n",
    "        attributes = []\n",
    "        if not file.exists():\n",
    "            raise FileNotFoundError\n",
    "\n",
    "        p = subprocess.Popen(f'xattr -p  {attribute} \"{file.resolve()}\"', shell=True, stdout=subprocess.PIPE, stderr=subprocess.STDOUT)\n",
    "        for line in p.stdout.readlines():\n",
    "            attributes.append(line.decode(\"utf-8\").strip())\n",
    "    #         attributes = attributes + line.decode(\"utf-8\").strip()\n",
    "        retval = p.wait()\n",
    "        if retval != 0:\n",
    "            raise ChildProcessError(f'xattr exited with value: {retval}')\n",
    "        return attributes        "
   ]
  },
  {
   "cell_type": "code",
   "execution_count": 88,
   "metadata": {},
   "outputs": [],
   "source": [
    "g = gd_path()"
   ]
  },
  {
   "cell_type": "code",
   "execution_count": null,
   "metadata": {},
   "outputs": [],
   "source": [
    "def main():\n",
    "    \n",
    "    csv_file = Path('./student.export.csv.text')\n",
    "    \n",
    "    drive_path = Path('/Volumes/GoogleDrive/Shared drives/IT Blabla I/')\n",
    "    \n",
    "    expected_headers = ['LastFirst', 'ClassOf', 'Student_Number']\n",
    "    expected_headers ={'LastFirst': str, 'ClassOf': int, 'Student_Number': int}\n",
    "    \n",
    "    ############\n",
    "    \n",
    "    logging.debug('starting up')\n",
    "    try:\n",
    "        csv_list = csv_to_list(csv_file)\n",
    "    except (FileNotFoundError, OSError, IOError) as e:\n",
    "        logging.error(f'could not read csv file: {csv_file}')\n",
    "        logging.error(f'{e}')\n",
    "        do_exit(e, 1)\n",
    "    \n",
    "    header_map, missing_headers = map_headers(csv_list, expected_headers.keys())\n",
    "    \n",
    "    if len(missing_headers) > 0:\n",
    "        do_exit(f'{csv_file.name} is missing one or more headers:\\n\\t{missing_headers}', 1)\n",
    "    \n",
    "    \n",
    "    \n",
    "    return\n",
    "    \n"
   ]
  },
  {
   "cell_type": "code",
   "execution_count": null,
   "metadata": {},
   "outputs": [],
   "source": [
    "f = main()"
   ]
  },
  {
   "cell_type": "code",
   "execution_count": null,
   "metadata": {},
   "outputs": [],
   "source": [
    "print( f)"
   ]
  },
  {
   "cell_type": "code",
   "execution_count": null,
   "metadata": {},
   "outputs": [],
   "source": []
  }
 ],
 "metadata": {
  "kernelspec": {
   "display_name": "portfolioCreator-ahiuVo4K",
   "language": "python",
   "name": "portfoliocreator-ahiuvo4k"
  },
  "language_info": {
   "codemirror_mode": {
    "name": "ipython",
    "version": 3
   },
   "file_extension": ".py",
   "mimetype": "text/x-python",
   "name": "python",
   "nbconvert_exporter": "python",
   "pygments_lexer": "ipython3",
   "version": "3.8.3"
  }
 },
 "nbformat": 4,
 "nbformat_minor": 4
}
